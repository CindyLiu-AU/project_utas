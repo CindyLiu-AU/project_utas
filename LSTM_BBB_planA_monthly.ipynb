{
 "cells": [
  {
   "cell_type": "code",
   "execution_count": 2,
   "metadata": {},
   "outputs": [],
   "source": [
    "import pandas as pd\n",
    "import numpy as np\n",
    "\n",
    "from sklearn import preprocessing\n",
    "from sklearn.model_selection import train_test_split\n",
    "\n",
    "np.random.seed(42)"
   ]
  },
  {
   "cell_type": "markdown",
   "metadata": {},
   "source": [
    "# load data"
   ]
  },
  {
   "cell_type": "code",
   "execution_count": 3,
   "metadata": {},
   "outputs": [],
   "source": [
    "df1_ori=pd.read_csv('BBB_planA_monthly.csv', low_memory=False)"
   ]
  },
  {
   "cell_type": "code",
   "execution_count": 4,
   "metadata": {},
   "outputs": [
    {
     "data": {
      "text/html": [
       "<div>\n",
       "<style scoped>\n",
       "    .dataframe tbody tr th:only-of-type {\n",
       "        vertical-align: middle;\n",
       "    }\n",
       "\n",
       "    .dataframe tbody tr th {\n",
       "        vertical-align: top;\n",
       "    }\n",
       "\n",
       "    .dataframe thead th {\n",
       "        text-align: right;\n",
       "    }\n",
       "</style>\n",
       "<table border=\"1\" class=\"dataframe\">\n",
       "  <thead>\n",
       "    <tr style=\"text-align: right;\">\n",
       "      <th></th>\n",
       "      <th>final_result</th>\n",
       "      <th>T0</th>\n",
       "      <th>T1</th>\n",
       "      <th>T2</th>\n",
       "      <th>T3</th>\n",
       "      <th>T4</th>\n",
       "      <th>T5</th>\n",
       "      <th>T6</th>\n",
       "      <th>T7</th>\n",
       "      <th>T8</th>\n",
       "      <th>T9</th>\n",
       "      <th>id1</th>\n",
       "    </tr>\n",
       "  </thead>\n",
       "  <tbody>\n",
       "    <tr>\n",
       "      <th>0</th>\n",
       "      <td>1</td>\n",
       "      <td>13.0</td>\n",
       "      <td>38.0</td>\n",
       "      <td>88.0</td>\n",
       "      <td>14.0</td>\n",
       "      <td>126.0</td>\n",
       "      <td>67.0</td>\n",
       "      <td>124.0</td>\n",
       "      <td>152.0</td>\n",
       "      <td>83.0</td>\n",
       "      <td>34.0</td>\n",
       "      <td>0</td>\n",
       "    </tr>\n",
       "    <tr>\n",
       "      <th>1</th>\n",
       "      <td>1</td>\n",
       "      <td>7.0</td>\n",
       "      <td>42.0</td>\n",
       "      <td>22.0</td>\n",
       "      <td>7.0</td>\n",
       "      <td>101.0</td>\n",
       "      <td>46.0</td>\n",
       "      <td>14.0</td>\n",
       "      <td>62.0</td>\n",
       "      <td>0.0</td>\n",
       "      <td>0.0</td>\n",
       "      <td>1</td>\n",
       "    </tr>\n",
       "    <tr>\n",
       "      <th>2</th>\n",
       "      <td>0</td>\n",
       "      <td>71.0</td>\n",
       "      <td>333.0</td>\n",
       "      <td>510.0</td>\n",
       "      <td>38.0</td>\n",
       "      <td>139.0</td>\n",
       "      <td>247.0</td>\n",
       "      <td>119.0</td>\n",
       "      <td>157.0</td>\n",
       "      <td>62.0</td>\n",
       "      <td>12.0</td>\n",
       "      <td>2</td>\n",
       "    </tr>\n",
       "    <tr>\n",
       "      <th>3</th>\n",
       "      <td>1</td>\n",
       "      <td>117.0</td>\n",
       "      <td>72.0</td>\n",
       "      <td>211.0</td>\n",
       "      <td>131.0</td>\n",
       "      <td>244.0</td>\n",
       "      <td>483.0</td>\n",
       "      <td>193.0</td>\n",
       "      <td>409.0</td>\n",
       "      <td>138.0</td>\n",
       "      <td>0.0</td>\n",
       "      <td>3</td>\n",
       "    </tr>\n",
       "    <tr>\n",
       "      <th>4</th>\n",
       "      <td>0</td>\n",
       "      <td>2.0</td>\n",
       "      <td>9.0</td>\n",
       "      <td>4.0</td>\n",
       "      <td>0.0</td>\n",
       "      <td>0.0</td>\n",
       "      <td>1.0</td>\n",
       "      <td>0.0</td>\n",
       "      <td>0.0</td>\n",
       "      <td>0.0</td>\n",
       "      <td>0.0</td>\n",
       "      <td>4</td>\n",
       "    </tr>\n",
       "    <tr>\n",
       "      <th>...</th>\n",
       "      <td>...</td>\n",
       "      <td>...</td>\n",
       "      <td>...</td>\n",
       "      <td>...</td>\n",
       "      <td>...</td>\n",
       "      <td>...</td>\n",
       "      <td>...</td>\n",
       "      <td>...</td>\n",
       "      <td>...</td>\n",
       "      <td>...</td>\n",
       "      <td>...</td>\n",
       "      <td>...</td>\n",
       "    </tr>\n",
       "    <tr>\n",
       "      <th>5336</th>\n",
       "      <td>1</td>\n",
       "      <td>64.0</td>\n",
       "      <td>95.0</td>\n",
       "      <td>62.0</td>\n",
       "      <td>74.0</td>\n",
       "      <td>73.0</td>\n",
       "      <td>48.0</td>\n",
       "      <td>56.0</td>\n",
       "      <td>70.0</td>\n",
       "      <td>89.0</td>\n",
       "      <td>0.0</td>\n",
       "      <td>5336</td>\n",
       "    </tr>\n",
       "    <tr>\n",
       "      <th>5337</th>\n",
       "      <td>0</td>\n",
       "      <td>32.0</td>\n",
       "      <td>74.0</td>\n",
       "      <td>159.0</td>\n",
       "      <td>81.0</td>\n",
       "      <td>38.0</td>\n",
       "      <td>15.0</td>\n",
       "      <td>75.0</td>\n",
       "      <td>23.0</td>\n",
       "      <td>56.0</td>\n",
       "      <td>0.0</td>\n",
       "      <td>5337</td>\n",
       "    </tr>\n",
       "    <tr>\n",
       "      <th>5338</th>\n",
       "      <td>1</td>\n",
       "      <td>562.0</td>\n",
       "      <td>675.0</td>\n",
       "      <td>770.0</td>\n",
       "      <td>756.0</td>\n",
       "      <td>856.0</td>\n",
       "      <td>374.0</td>\n",
       "      <td>425.0</td>\n",
       "      <td>218.0</td>\n",
       "      <td>206.0</td>\n",
       "      <td>0.0</td>\n",
       "      <td>5338</td>\n",
       "    </tr>\n",
       "    <tr>\n",
       "      <th>5339</th>\n",
       "      <td>0</td>\n",
       "      <td>0.0</td>\n",
       "      <td>27.0</td>\n",
       "      <td>29.0</td>\n",
       "      <td>75.0</td>\n",
       "      <td>1.0</td>\n",
       "      <td>9.0</td>\n",
       "      <td>64.0</td>\n",
       "      <td>17.0</td>\n",
       "      <td>43.0</td>\n",
       "      <td>0.0</td>\n",
       "      <td>5339</td>\n",
       "    </tr>\n",
       "    <tr>\n",
       "      <th>5340</th>\n",
       "      <td>1</td>\n",
       "      <td>0.0</td>\n",
       "      <td>101.0</td>\n",
       "      <td>92.0</td>\n",
       "      <td>77.0</td>\n",
       "      <td>263.0</td>\n",
       "      <td>287.0</td>\n",
       "      <td>444.0</td>\n",
       "      <td>327.0</td>\n",
       "      <td>309.0</td>\n",
       "      <td>93.0</td>\n",
       "      <td>5340</td>\n",
       "    </tr>\n",
       "  </tbody>\n",
       "</table>\n",
       "<p>5341 rows × 12 columns</p>\n",
       "</div>"
      ],
      "text/plain": [
       "      final_result     T0     T1     T2     T3     T4     T5     T6     T7  \\\n",
       "0                1   13.0   38.0   88.0   14.0  126.0   67.0  124.0  152.0   \n",
       "1                1    7.0   42.0   22.0    7.0  101.0   46.0   14.0   62.0   \n",
       "2                0   71.0  333.0  510.0   38.0  139.0  247.0  119.0  157.0   \n",
       "3                1  117.0   72.0  211.0  131.0  244.0  483.0  193.0  409.0   \n",
       "4                0    2.0    9.0    4.0    0.0    0.0    1.0    0.0    0.0   \n",
       "...            ...    ...    ...    ...    ...    ...    ...    ...    ...   \n",
       "5336             1   64.0   95.0   62.0   74.0   73.0   48.0   56.0   70.0   \n",
       "5337             0   32.0   74.0  159.0   81.0   38.0   15.0   75.0   23.0   \n",
       "5338             1  562.0  675.0  770.0  756.0  856.0  374.0  425.0  218.0   \n",
       "5339             0    0.0   27.0   29.0   75.0    1.0    9.0   64.0   17.0   \n",
       "5340             1    0.0  101.0   92.0   77.0  263.0  287.0  444.0  327.0   \n",
       "\n",
       "         T8    T9   id1  \n",
       "0      83.0  34.0     0  \n",
       "1       0.0   0.0     1  \n",
       "2      62.0  12.0     2  \n",
       "3     138.0   0.0     3  \n",
       "4       0.0   0.0     4  \n",
       "...     ...   ...   ...  \n",
       "5336   89.0   0.0  5336  \n",
       "5337   56.0   0.0  5337  \n",
       "5338  206.0   0.0  5338  \n",
       "5339   43.0   0.0  5339  \n",
       "5340  309.0  93.0  5340  \n",
       "\n",
       "[5341 rows x 12 columns]"
      ]
     },
     "execution_count": 4,
     "metadata": {},
     "output_type": "execute_result"
    }
   ],
   "source": [
    "df1_ori"
   ]
  },
  {
   "cell_type": "code",
   "execution_count": 5,
   "metadata": {},
   "outputs": [
    {
     "data": {
      "text/html": [
       "<div>\n",
       "<style scoped>\n",
       "    .dataframe tbody tr th:only-of-type {\n",
       "        vertical-align: middle;\n",
       "    }\n",
       "\n",
       "    .dataframe tbody tr th {\n",
       "        vertical-align: top;\n",
       "    }\n",
       "\n",
       "    .dataframe thead th {\n",
       "        text-align: right;\n",
       "    }\n",
       "</style>\n",
       "<table border=\"1\" class=\"dataframe\">\n",
       "  <thead>\n",
       "    <tr style=\"text-align: right;\">\n",
       "      <th></th>\n",
       "      <th>final_result</th>\n",
       "      <th>T0</th>\n",
       "      <th>T1</th>\n",
       "      <th>T2</th>\n",
       "      <th>T3</th>\n",
       "      <th>T4</th>\n",
       "      <th>T5</th>\n",
       "      <th>T6</th>\n",
       "      <th>T7</th>\n",
       "      <th>T8</th>\n",
       "      <th>T9</th>\n",
       "      <th>id1</th>\n",
       "    </tr>\n",
       "  </thead>\n",
       "  <tbody>\n",
       "    <tr>\n",
       "      <th>0</th>\n",
       "      <td>1</td>\n",
       "      <td>13.0</td>\n",
       "      <td>38.0</td>\n",
       "      <td>88.0</td>\n",
       "      <td>14.0</td>\n",
       "      <td>126.0</td>\n",
       "      <td>67.0</td>\n",
       "      <td>124.0</td>\n",
       "      <td>152.0</td>\n",
       "      <td>83.0</td>\n",
       "      <td>34.0</td>\n",
       "      <td>0</td>\n",
       "    </tr>\n",
       "    <tr>\n",
       "      <th>1</th>\n",
       "      <td>1</td>\n",
       "      <td>7.0</td>\n",
       "      <td>42.0</td>\n",
       "      <td>22.0</td>\n",
       "      <td>7.0</td>\n",
       "      <td>101.0</td>\n",
       "      <td>46.0</td>\n",
       "      <td>14.0</td>\n",
       "      <td>62.0</td>\n",
       "      <td>0.0</td>\n",
       "      <td>0.0</td>\n",
       "      <td>1</td>\n",
       "    </tr>\n",
       "    <tr>\n",
       "      <th>2</th>\n",
       "      <td>0</td>\n",
       "      <td>71.0</td>\n",
       "      <td>333.0</td>\n",
       "      <td>510.0</td>\n",
       "      <td>38.0</td>\n",
       "      <td>139.0</td>\n",
       "      <td>247.0</td>\n",
       "      <td>119.0</td>\n",
       "      <td>157.0</td>\n",
       "      <td>62.0</td>\n",
       "      <td>12.0</td>\n",
       "      <td>2</td>\n",
       "    </tr>\n",
       "    <tr>\n",
       "      <th>3</th>\n",
       "      <td>1</td>\n",
       "      <td>117.0</td>\n",
       "      <td>72.0</td>\n",
       "      <td>211.0</td>\n",
       "      <td>131.0</td>\n",
       "      <td>244.0</td>\n",
       "      <td>483.0</td>\n",
       "      <td>193.0</td>\n",
       "      <td>409.0</td>\n",
       "      <td>138.0</td>\n",
       "      <td>0.0</td>\n",
       "      <td>3</td>\n",
       "    </tr>\n",
       "    <tr>\n",
       "      <th>4</th>\n",
       "      <td>0</td>\n",
       "      <td>2.0</td>\n",
       "      <td>9.0</td>\n",
       "      <td>4.0</td>\n",
       "      <td>0.0</td>\n",
       "      <td>0.0</td>\n",
       "      <td>1.0</td>\n",
       "      <td>0.0</td>\n",
       "      <td>0.0</td>\n",
       "      <td>0.0</td>\n",
       "      <td>0.0</td>\n",
       "      <td>4</td>\n",
       "    </tr>\n",
       "    <tr>\n",
       "      <th>5</th>\n",
       "      <td>1</td>\n",
       "      <td>52.0</td>\n",
       "      <td>140.0</td>\n",
       "      <td>98.0</td>\n",
       "      <td>70.0</td>\n",
       "      <td>43.0</td>\n",
       "      <td>77.0</td>\n",
       "      <td>89.0</td>\n",
       "      <td>32.0</td>\n",
       "      <td>27.0</td>\n",
       "      <td>0.0</td>\n",
       "      <td>5</td>\n",
       "    </tr>\n",
       "    <tr>\n",
       "      <th>6</th>\n",
       "      <td>1</td>\n",
       "      <td>27.0</td>\n",
       "      <td>138.0</td>\n",
       "      <td>127.0</td>\n",
       "      <td>35.0</td>\n",
       "      <td>53.0</td>\n",
       "      <td>43.0</td>\n",
       "      <td>69.0</td>\n",
       "      <td>37.0</td>\n",
       "      <td>11.0</td>\n",
       "      <td>61.0</td>\n",
       "      <td>6</td>\n",
       "    </tr>\n",
       "    <tr>\n",
       "      <th>7</th>\n",
       "      <td>1</td>\n",
       "      <td>0.0</td>\n",
       "      <td>78.0</td>\n",
       "      <td>148.0</td>\n",
       "      <td>49.0</td>\n",
       "      <td>44.0</td>\n",
       "      <td>68.0</td>\n",
       "      <td>39.0</td>\n",
       "      <td>15.0</td>\n",
       "      <td>78.0</td>\n",
       "      <td>0.0</td>\n",
       "      <td>7</td>\n",
       "    </tr>\n",
       "    <tr>\n",
       "      <th>8</th>\n",
       "      <td>1</td>\n",
       "      <td>169.0</td>\n",
       "      <td>642.0</td>\n",
       "      <td>579.0</td>\n",
       "      <td>97.0</td>\n",
       "      <td>160.0</td>\n",
       "      <td>44.0</td>\n",
       "      <td>79.0</td>\n",
       "      <td>128.0</td>\n",
       "      <td>53.0</td>\n",
       "      <td>34.0</td>\n",
       "      <td>8</td>\n",
       "    </tr>\n",
       "    <tr>\n",
       "      <th>9</th>\n",
       "      <td>0</td>\n",
       "      <td>0.0</td>\n",
       "      <td>11.0</td>\n",
       "      <td>24.0</td>\n",
       "      <td>0.0</td>\n",
       "      <td>13.0</td>\n",
       "      <td>16.0</td>\n",
       "      <td>72.0</td>\n",
       "      <td>20.0</td>\n",
       "      <td>5.0</td>\n",
       "      <td>0.0</td>\n",
       "      <td>9</td>\n",
       "    </tr>\n",
       "  </tbody>\n",
       "</table>\n",
       "</div>"
      ],
      "text/plain": [
       "   final_result     T0     T1     T2     T3     T4     T5     T6     T7  \\\n",
       "0             1   13.0   38.0   88.0   14.0  126.0   67.0  124.0  152.0   \n",
       "1             1    7.0   42.0   22.0    7.0  101.0   46.0   14.0   62.0   \n",
       "2             0   71.0  333.0  510.0   38.0  139.0  247.0  119.0  157.0   \n",
       "3             1  117.0   72.0  211.0  131.0  244.0  483.0  193.0  409.0   \n",
       "4             0    2.0    9.0    4.0    0.0    0.0    1.0    0.0    0.0   \n",
       "5             1   52.0  140.0   98.0   70.0   43.0   77.0   89.0   32.0   \n",
       "6             1   27.0  138.0  127.0   35.0   53.0   43.0   69.0   37.0   \n",
       "7             1    0.0   78.0  148.0   49.0   44.0   68.0   39.0   15.0   \n",
       "8             1  169.0  642.0  579.0   97.0  160.0   44.0   79.0  128.0   \n",
       "9             0    0.0   11.0   24.0    0.0   13.0   16.0   72.0   20.0   \n",
       "\n",
       "      T8    T9  id1  \n",
       "0   83.0  34.0    0  \n",
       "1    0.0   0.0    1  \n",
       "2   62.0  12.0    2  \n",
       "3  138.0   0.0    3  \n",
       "4    0.0   0.0    4  \n",
       "5   27.0   0.0    5  \n",
       "6   11.0  61.0    6  \n",
       "7   78.0   0.0    7  \n",
       "8   53.0  34.0    8  \n",
       "9    5.0   0.0    9  "
      ]
     },
     "execution_count": 5,
     "metadata": {},
     "output_type": "execute_result"
    }
   ],
   "source": [
    "df1_sorted=df1_ori.sort_values(by=['id1'])\n",
    "df1_sorted.head(10)"
   ]
  },
  {
   "cell_type": "code",
   "execution_count": 6,
   "metadata": {},
   "outputs": [
    {
     "name": "stdout",
     "output_type": "stream",
     "text": [
      "<class 'pandas.core.frame.DataFrame'>\n",
      "Int64Index: 5341 entries, 0 to 5340\n",
      "Data columns (total 12 columns):\n",
      " #   Column        Non-Null Count  Dtype  \n",
      "---  ------        --------------  -----  \n",
      " 0   final_result  5341 non-null   int64  \n",
      " 1   T0            5341 non-null   float64\n",
      " 2   T1            5341 non-null   float64\n",
      " 3   T2            5341 non-null   float64\n",
      " 4   T3            5341 non-null   float64\n",
      " 5   T4            5341 non-null   float64\n",
      " 6   T5            5341 non-null   float64\n",
      " 7   T6            5341 non-null   float64\n",
      " 8   T7            5341 non-null   float64\n",
      " 9   T8            5341 non-null   float64\n",
      " 10  T9            5341 non-null   float64\n",
      " 11  id1           5341 non-null   int64  \n",
      "dtypes: float64(10), int64(2)\n",
      "memory usage: 542.4 KB\n"
     ]
    }
   ],
   "source": [
    "df1_sorted.info() # final_result  is an object"
   ]
  },
  {
   "cell_type": "markdown",
   "metadata": {},
   "source": [
    "# prepare dataset for y"
   ]
  },
  {
   "cell_type": "code",
   "execution_count": 7,
   "metadata": {},
   "outputs": [],
   "source": [
    "y = df1_sorted['final_result']"
   ]
  },
  {
   "cell_type": "code",
   "execution_count": 8,
   "metadata": {},
   "outputs": [
    {
     "name": "stdout",
     "output_type": "stream",
     "text": [
      "0       1\n",
      "1       1\n",
      "2       0\n",
      "3       1\n",
      "4       0\n",
      "       ..\n",
      "5336    1\n",
      "5337    0\n",
      "5338    1\n",
      "5339    0\n",
      "5340    1\n",
      "Name: final_result, Length: 5341, dtype: int64\n"
     ]
    }
   ],
   "source": [
    "print(y) # df_label is a collection of t: 12 activities * 5341 students = 64,092 rows"
   ]
  },
  {
   "cell_type": "code",
   "execution_count": 9,
   "metadata": {},
   "outputs": [
    {
     "name": "stdout",
     "output_type": "stream",
     "text": [
      "<class 'pandas.core.series.Series'>\n"
     ]
    }
   ],
   "source": [
    "print(type(y))"
   ]
  },
  {
   "cell_type": "markdown",
   "metadata": {},
   "source": [
    "# prepare dataset for X"
   ]
  },
  {
   "cell_type": "code",
   "execution_count": 10,
   "metadata": {},
   "outputs": [],
   "source": [
    "X = df1_sorted.drop(['final_result','id1'], axis=1)"
   ]
  },
  {
   "cell_type": "code",
   "execution_count": 11,
   "metadata": {},
   "outputs": [
    {
     "data": {
      "text/html": [
       "<div>\n",
       "<style scoped>\n",
       "    .dataframe tbody tr th:only-of-type {\n",
       "        vertical-align: middle;\n",
       "    }\n",
       "\n",
       "    .dataframe tbody tr th {\n",
       "        vertical-align: top;\n",
       "    }\n",
       "\n",
       "    .dataframe thead th {\n",
       "        text-align: right;\n",
       "    }\n",
       "</style>\n",
       "<table border=\"1\" class=\"dataframe\">\n",
       "  <thead>\n",
       "    <tr style=\"text-align: right;\">\n",
       "      <th></th>\n",
       "      <th>T0</th>\n",
       "      <th>T1</th>\n",
       "      <th>T2</th>\n",
       "      <th>T3</th>\n",
       "      <th>T4</th>\n",
       "      <th>T5</th>\n",
       "      <th>T6</th>\n",
       "      <th>T7</th>\n",
       "      <th>T8</th>\n",
       "      <th>T9</th>\n",
       "    </tr>\n",
       "  </thead>\n",
       "  <tbody>\n",
       "    <tr>\n",
       "      <th>0</th>\n",
       "      <td>13.0</td>\n",
       "      <td>38.0</td>\n",
       "      <td>88.0</td>\n",
       "      <td>14.0</td>\n",
       "      <td>126.0</td>\n",
       "      <td>67.0</td>\n",
       "      <td>124.0</td>\n",
       "      <td>152.0</td>\n",
       "      <td>83.0</td>\n",
       "      <td>34.0</td>\n",
       "    </tr>\n",
       "    <tr>\n",
       "      <th>1</th>\n",
       "      <td>7.0</td>\n",
       "      <td>42.0</td>\n",
       "      <td>22.0</td>\n",
       "      <td>7.0</td>\n",
       "      <td>101.0</td>\n",
       "      <td>46.0</td>\n",
       "      <td>14.0</td>\n",
       "      <td>62.0</td>\n",
       "      <td>0.0</td>\n",
       "      <td>0.0</td>\n",
       "    </tr>\n",
       "    <tr>\n",
       "      <th>2</th>\n",
       "      <td>71.0</td>\n",
       "      <td>333.0</td>\n",
       "      <td>510.0</td>\n",
       "      <td>38.0</td>\n",
       "      <td>139.0</td>\n",
       "      <td>247.0</td>\n",
       "      <td>119.0</td>\n",
       "      <td>157.0</td>\n",
       "      <td>62.0</td>\n",
       "      <td>12.0</td>\n",
       "    </tr>\n",
       "    <tr>\n",
       "      <th>3</th>\n",
       "      <td>117.0</td>\n",
       "      <td>72.0</td>\n",
       "      <td>211.0</td>\n",
       "      <td>131.0</td>\n",
       "      <td>244.0</td>\n",
       "      <td>483.0</td>\n",
       "      <td>193.0</td>\n",
       "      <td>409.0</td>\n",
       "      <td>138.0</td>\n",
       "      <td>0.0</td>\n",
       "    </tr>\n",
       "    <tr>\n",
       "      <th>4</th>\n",
       "      <td>2.0</td>\n",
       "      <td>9.0</td>\n",
       "      <td>4.0</td>\n",
       "      <td>0.0</td>\n",
       "      <td>0.0</td>\n",
       "      <td>1.0</td>\n",
       "      <td>0.0</td>\n",
       "      <td>0.0</td>\n",
       "      <td>0.0</td>\n",
       "      <td>0.0</td>\n",
       "    </tr>\n",
       "  </tbody>\n",
       "</table>\n",
       "</div>"
      ],
      "text/plain": [
       "      T0     T1     T2     T3     T4     T5     T6     T7     T8    T9\n",
       "0   13.0   38.0   88.0   14.0  126.0   67.0  124.0  152.0   83.0  34.0\n",
       "1    7.0   42.0   22.0    7.0  101.0   46.0   14.0   62.0    0.0   0.0\n",
       "2   71.0  333.0  510.0   38.0  139.0  247.0  119.0  157.0   62.0  12.0\n",
       "3  117.0   72.0  211.0  131.0  244.0  483.0  193.0  409.0  138.0   0.0\n",
       "4    2.0    9.0    4.0    0.0    0.0    1.0    0.0    0.0    0.0   0.0"
      ]
     },
     "execution_count": 11,
     "metadata": {},
     "output_type": "execute_result"
    }
   ],
   "source": [
    "X.head()"
   ]
  },
  {
   "cell_type": "code",
   "execution_count": 11,
   "metadata": {},
   "outputs": [
    {
     "data": {
      "text/plain": [
       "(5341, 10)"
      ]
     },
     "execution_count": 11,
     "metadata": {},
     "output_type": "execute_result"
    }
   ],
   "source": [
    "df_col.shape"
   ]
  },
  {
   "cell_type": "markdown",
   "metadata": {},
   "source": [
    "# create X and y (7:3)"
   ]
  },
  {
   "cell_type": "markdown",
   "metadata": {},
   "source": [
    "5341 students * 0.7 = 3738 students"
   ]
  },
  {
   "cell_type": "code",
   "execution_count": 12,
   "metadata": {},
   "outputs": [],
   "source": [
    "X_train, X_test, y_train, y_test = train_test_split(\n",
    "         X, y, test_size=0.3, random_state=42, stratify=y)"
   ]
  },
  {
   "cell_type": "code",
   "execution_count": 13,
   "metadata": {},
   "outputs": [
    {
     "name": "stdout",
     "output_type": "stream",
     "text": [
      "xtrain: (3738, 10)\n",
      "ytrain: (3738,)\n",
      "xtest: (1603, 10)\n",
      "ytest: (1603,)\n"
     ]
    }
   ],
   "source": [
    "print(\"xtrain:\",X_train.shape)\n",
    "print(\"ytrain:\",y_train.shape)\n",
    "print(\"xtest:\",X_test.shape)\n",
    "print(\"ytest:\",y_test.shape)\n"
   ]
  },
  {
   "cell_type": "markdown",
   "metadata": {},
   "source": [
    "# reshape X and y"
   ]
  },
  {
   "cell_type": "code",
   "execution_count": 14,
   "metadata": {},
   "outputs": [
    {
     "name": "stdout",
     "output_type": "stream",
     "text": [
      "3738\n",
      "10\n",
      "1603\n",
      "10\n"
     ]
    }
   ],
   "source": [
    "print(X_train.shape[0])\n",
    "print(X_train.shape[1])\n",
    "print(X_test.shape[0])\n",
    "print(X_test.shape[1])"
   ]
  },
  {
   "cell_type": "code",
   "execution_count": 15,
   "metadata": {},
   "outputs": [],
   "source": [
    "X_train_reshaped=X_train.values.reshape((X_train.shape[0], X_train.shape[1] ))\n",
    "X_test_reshaped=X_test.values.reshape((X_test.shape[0],X_test.shape[1]))\n",
    "\n",
    "y_train_reshaped=y_train.values.reshape((y_train.shape[0],1 ))\n",
    "y_test_reshaped=y_test.values.reshape((y_test.shape[0],1))"
   ]
  },
  {
   "cell_type": "code",
   "execution_count": 16,
   "metadata": {},
   "outputs": [
    {
     "name": "stdout",
     "output_type": "stream",
     "text": [
      "xtrain_reshaped: (3738, 10)\n",
      "xtrain_reshaped: <class 'numpy.ndarray'>\n",
      "xtest_reshaped: (1603, 10)\n",
      "xtest_reshaped: <class 'numpy.ndarray'>\n"
     ]
    }
   ],
   "source": [
    "print(\"xtrain_reshaped:\", X_train_reshaped.shape)\n",
    "print(\"xtrain_reshaped:\", type(X_train_reshaped))\n",
    "print(\"xtest_reshaped:\", X_test_reshaped.shape)\n",
    "print(\"xtest_reshaped:\", type(X_test_reshaped))\n"
   ]
  },
  {
   "cell_type": "code",
   "execution_count": 17,
   "metadata": {},
   "outputs": [
    {
     "name": "stdout",
     "output_type": "stream",
     "text": [
      "ytrain_reshaped: (3738, 1)\n",
      "ytrain_reshaped: <class 'numpy.ndarray'>\n",
      "ytest_reshaped: (1603, 1)\n",
      "ytest_reshaped: <class 'numpy.ndarray'>\n"
     ]
    }
   ],
   "source": [
    "print(\"ytrain_reshaped:\", y_train_reshaped.shape)\n",
    "print(\"ytrain_reshaped:\", type(y_train_reshaped))\n",
    "print(\"ytest_reshaped:\", y_test_reshaped.shape)\n",
    "print(\"ytest_reshaped:\", type(y_test_reshaped))"
   ]
  },
  {
   "cell_type": "markdown",
   "metadata": {},
   "source": [
    "# MinMaxScaler"
   ]
  },
  {
   "cell_type": "code",
   "execution_count": 18,
   "metadata": {},
   "outputs": [],
   "source": [
    "from sklearn import preprocessing\n",
    "min_max_scaler = preprocessing.MinMaxScaler()\n",
    "X_train_scaled = min_max_scaler.fit_transform(X_train_reshaped)\n",
    "X_test_scaled = min_max_scaler.fit_transform(X_test_reshaped)"
   ]
  },
  {
   "cell_type": "markdown",
   "metadata": {},
   "source": [
    "# reshape X again "
   ]
  },
  {
   "cell_type": "code",
   "execution_count": 19,
   "metadata": {},
   "outputs": [],
   "source": [
    "X_train_reshaped2=X_train_scaled.reshape((X_train_scaled.shape[0],10,1))\n",
    "X_test_reshaped2=X_test_scaled.reshape((X_test_scaled.shape[0],10,1))"
   ]
  },
  {
   "cell_type": "code",
   "execution_count": 20,
   "metadata": {},
   "outputs": [
    {
     "name": "stdout",
     "output_type": "stream",
     "text": [
      "xtrain_reshaped2: (3738, 10, 1)\n",
      "xtrain_reshaped2: <class 'numpy.ndarray'>\n",
      "xtest_reshaped2: (1603, 10, 1)\n",
      "xtest_reshaped2: <class 'numpy.ndarray'>\n"
     ]
    }
   ],
   "source": [
    "print(\"xtrain_reshaped2:\", X_train_reshaped2.shape)\n",
    "print(\"xtrain_reshaped2:\", type(X_train_reshaped2))\n",
    "print(\"xtest_reshaped2:\", X_test_reshaped2.shape)\n",
    "print(\"xtest_reshaped2:\", type(X_test_reshaped2))"
   ]
  },
  {
   "cell_type": "markdown",
   "metadata": {},
   "source": [
    "# the final X and y for modelling"
   ]
  },
  {
   "cell_type": "code",
   "execution_count": 21,
   "metadata": {},
   "outputs": [],
   "source": [
    "X_train1 = X_train_reshaped2\n",
    "X_test1 = X_test_reshaped2\n",
    "y_train1 = y_train_reshaped\n",
    "y_test1 = y_test_reshaped"
   ]
  },
  {
   "cell_type": "markdown",
   "metadata": {},
   "source": [
    "# -----------------The second file-------------------"
   ]
  },
  {
   "cell_type": "code",
   "execution_count": 22,
   "metadata": {},
   "outputs": [],
   "source": [
    "from keras.models import Sequential\n",
    "from keras.layers import Dense,LSTM, Masking, Dropout\n",
    "from keras.preprocessing import sequence\n",
    "import tensorflow as tf\n",
    "from tensorflow import keras\n",
    "\n",
    "tf.random.set_seed(42)"
   ]
  },
  {
   "cell_type": "code",
   "execution_count": 26,
   "metadata": {
    "scrolled": true
   },
   "outputs": [
    {
     "name": "stdout",
     "output_type": "stream",
     "text": [
      "(3738, 10, 1)\n",
      "(1603, 10, 1)\n",
      "(3738, 1)\n",
      "(1603, 1)\n"
     ]
    }
   ],
   "source": [
    "print(X_train1.shape)\n",
    "print(X_test1.shape)\n",
    "print(y_train1.shape)\n",
    "print(y_test1.shape)"
   ]
  },
  {
   "cell_type": "code",
   "execution_count": 27,
   "metadata": {},
   "outputs": [],
   "source": [
    "batch_size = 128"
   ]
  },
  {
   "cell_type": "code",
   "execution_count": 91,
   "metadata": {},
   "outputs": [],
   "source": [
    "## LSTM:80/60\n",
    "        \n",
    "lr=0.01\n",
    "epochs=100\n",
    "\n",
    "model = Sequential()\n",
    "model.add(LSTM(80, dropout=0.2, input_shape=(X_train1.shape[1], X_train1.shape[2]),return_sequences=True))\n",
    "model.add(LSTM(50, dropout=0.2, return_sequences=False))\n",
    "model.add(Dense(1, activation='sigmoid'))\n",
    "model.compile(loss='binary_crossentropy',\n",
    "              optimizer=tf.keras.optimizers.Adam(learning_rate=lr),\n",
    "              metrics=['accuracy'])"
   ]
  },
  {
   "cell_type": "markdown",
   "metadata": {},
   "source": [
    "## loss: 0.3097 - accuracy: 0.8815 (LSTM:80/60) (lr=0.01, epochs=100)\n",
    "\n",
    "model = Sequential()\n",
    "model.add(LSTM(80, dropout=0.2, input_shape=(X_train1.shape[1], X_train1.shape[2]),return_sequences=True))\n",
    "model.add(LSTM(50, dropout=0.2, return_sequences=False))\n",
    "model.add(Dense(1, activation='sigmoid'))\n",
    "model.compile(loss='binary_crossentropy',\n",
    "              optimizer=tf.keras.optimizers.Adam(learning_rate=lr),\n",
    "              metrics=['accuracy'])"
   ]
  },
  {
   "cell_type": "markdown",
   "metadata": {},
   "source": [
    "## loss: 0.3099 - accuracy: 0.8865 (lr=0.01, epochs=60)\n",
    "\n",
    "model = Sequential()\n",
    "model.add(LSTM(80, dropout=0.2, input_shape=(X_train1.shape[1], X_train1.shape[2]),return_sequences=True))\n",
    "model.add(LSTM(50, dropout=0.2, return_sequences=False))\n",
    "model.add(Dense(1, activation='sigmoid'))\n",
    "model.compile(loss='binary_crossentropy',\n",
    "              optimizer=tf.keras.optimizers.Adam(learning_rate=lr),\n",
    "              metrics=['accuracy'])"
   ]
  },
  {
   "cell_type": "markdown",
   "metadata": {},
   "source": [
    "## loss: 0.3351 - accuracy: 0.8821 (lr=0.01, epochs=200)\n",
    "\n",
    "model = Sequential()\n",
    "model.add(LSTM(80, dropout=0.2, input_shape=(X_train1.shape[1], X_train1.shape[2]),return_sequences=True))\n",
    "model.add(LSTM(50, dropout=0.2, return_sequences=False))\n",
    "model.add(Dense(1, activation='sigmoid'))\n",
    "model.compile(loss='binary_crossentropy',\n",
    "              optimizer=tf.keras.optimizers.Adam(learning_rate=lr),\n",
    "              metrics=['accuracy'])"
   ]
  },
  {
   "cell_type": "markdown",
   "metadata": {},
   "source": [
    "## loss: 0.2960 - accuracy: 0.8890 (lr=0.01, epochs=100) -->best\n",
    "\n",
    "model = Sequential()\n",
    "model.add(LSTM(80, dropout=0.2, input_shape=(X_train1.shape[1], X_train1.shape[2]),return_sequences=True))\n",
    "model.add(LSTM(50, dropout=0.2, return_sequences=False))\n",
    "model.add(Dense(1, activation='sigmoid'))\n",
    "model.compile(loss='binary_crossentropy',\n",
    "              optimizer=tf.keras.optimizers.Adam(learning_rate=lr),\n",
    "              metrics=['accuracy'])"
   ]
  },
  {
   "cell_type": "markdown",
   "metadata": {},
   "source": [
    "## loss: 0.3091 - accuracy: 0.8858 (lr=0.001, epochs=100)\n",
    "\n",
    "model = Sequential()\n",
    "model.add(LSTM(80, dropout=0.2, input_shape=(X_train1.shape[1], X_train1.shape[2]),return_sequences=True))\n",
    "model.add(LSTM(50, dropout=0.2, return_sequences=False))\n",
    "model.add(Dense(1, activation='sigmoid'))\n",
    "model.compile(loss='binary_crossentropy',\n",
    "              optimizer=tf.keras.optimizers.Adam(learning_rate=lr),\n",
    "              metrics=['accuracy'])"
   ]
  },
  {
   "cell_type": "code",
   "execution_count": 92,
   "metadata": {},
   "outputs": [
    {
     "name": "stdout",
     "output_type": "stream",
     "text": [
      "Model: \"sequential_14\"\n",
      "_________________________________________________________________\n",
      " Layer (type)                Output Shape              Param #   \n",
      "=================================================================\n",
      " lstm_24 (LSTM)              (None, 10, 80)            26240     \n",
      "                                                                 \n",
      " lstm_25 (LSTM)              (None, 50)                26200     \n",
      "                                                                 \n",
      " dense_12 (Dense)            (None, 1)                 51        \n",
      "                                                                 \n",
      "=================================================================\n",
      "Total params: 52,491\n",
      "Trainable params: 52,491\n",
      "Non-trainable params: 0\n",
      "_________________________________________________________________\n",
      "None\n"
     ]
    }
   ],
   "source": [
    "print(model.summary())"
   ]
  },
  {
   "cell_type": "code",
   "execution_count": 93,
   "metadata": {},
   "outputs": [
    {
     "name": "stdout",
     "output_type": "stream",
     "text": [
      "Epoch 1/100\n",
      "30/30 [==============================] - 4s 40ms/step - loss: 0.5935 - accuracy: 0.7033 - val_loss: 0.5797 - val_accuracy: 0.7024\n",
      "Epoch 2/100\n",
      "30/30 [==============================] - 1s 19ms/step - loss: 0.5237 - accuracy: 0.7453 - val_loss: 0.4533 - val_accuracy: 0.7991\n",
      "Epoch 3/100\n",
      "30/30 [==============================] - 1s 19ms/step - loss: 0.4563 - accuracy: 0.7857 - val_loss: 0.3714 - val_accuracy: 0.8472\n",
      "Epoch 4/100\n",
      "30/30 [==============================] - 1s 20ms/step - loss: 0.3940 - accuracy: 0.8432 - val_loss: 0.3951 - val_accuracy: 0.8490\n",
      "Epoch 5/100\n",
      "30/30 [==============================] - ETA: 0s - loss: 0.4001 - accuracy: 0.83 - 1s 19ms/step - loss: 0.3971 - accuracy: 0.8379 - val_loss: 0.3311 - val_accuracy: 0.8677\n",
      "Epoch 6/100\n",
      "30/30 [==============================] - 1s 19ms/step - loss: 0.3800 - accuracy: 0.8515 - val_loss: 0.3142 - val_accuracy: 0.8865\n",
      "Epoch 7/100\n",
      "30/30 [==============================] - 1s 19ms/step - loss: 0.3595 - accuracy: 0.8561 - val_loss: 0.3333 - val_accuracy: 0.8715\n",
      "Epoch 8/100\n",
      "30/30 [==============================] - 1s 19ms/step - loss: 0.3654 - accuracy: 0.8558 - val_loss: 0.3213 - val_accuracy: 0.8734\n",
      "Epoch 9/100\n",
      "30/30 [==============================] - 1s 19ms/step - loss: 0.3705 - accuracy: 0.8526 - val_loss: 0.4420 - val_accuracy: 0.7891\n",
      "Epoch 10/100\n",
      "30/30 [==============================] - 1s 19ms/step - loss: 0.3914 - accuracy: 0.8411 - val_loss: 0.3359 - val_accuracy: 0.8721\n",
      "Epoch 11/100\n",
      "30/30 [==============================] - 1s 19ms/step - loss: 0.3495 - accuracy: 0.8646 - val_loss: 0.3015 - val_accuracy: 0.8883\n",
      "Epoch 12/100\n",
      "30/30 [==============================] - 1s 19ms/step - loss: 0.3594 - accuracy: 0.8569 - val_loss: 0.3128 - val_accuracy: 0.8815\n",
      "Epoch 13/100\n",
      "30/30 [==============================] - 1s 19ms/step - loss: 0.3450 - accuracy: 0.8668 - val_loss: 0.3121 - val_accuracy: 0.8827\n",
      "Epoch 14/100\n",
      "30/30 [==============================] - 1s 19ms/step - loss: 0.3532 - accuracy: 0.8633 - val_loss: 0.3217 - val_accuracy: 0.8802\n",
      "Epoch 15/100\n",
      "30/30 [==============================] - 1s 19ms/step - loss: 0.3428 - accuracy: 0.8686 - val_loss: 0.3031 - val_accuracy: 0.8871\n",
      "Epoch 16/100\n",
      "30/30 [==============================] - 1s 19ms/step - loss: 0.3473 - accuracy: 0.8692 - val_loss: 0.3015 - val_accuracy: 0.8852\n",
      "Epoch 17/100\n",
      "30/30 [==============================] - 1s 19ms/step - loss: 0.3442 - accuracy: 0.8676 - val_loss: 0.3032 - val_accuracy: 0.8865\n",
      "Epoch 18/100\n",
      "30/30 [==============================] - 1s 19ms/step - loss: 0.3511 - accuracy: 0.8662 - val_loss: 0.3144 - val_accuracy: 0.8846\n",
      "Epoch 19/100\n",
      "30/30 [==============================] - 1s 19ms/step - loss: 0.3403 - accuracy: 0.8713 - val_loss: 0.2987 - val_accuracy: 0.8890\n",
      "Epoch 20/100\n",
      "30/30 [==============================] - 1s 19ms/step - loss: 0.3442 - accuracy: 0.8668 - val_loss: 0.3013 - val_accuracy: 0.8921\n",
      "Epoch 21/100\n",
      "30/30 [==============================] - 1s 18ms/step - loss: 0.3440 - accuracy: 0.8668 - val_loss: 0.3470 - val_accuracy: 0.8540\n",
      "Epoch 22/100\n",
      "30/30 [==============================] - 1s 18ms/step - loss: 0.3432 - accuracy: 0.8654 - val_loss: 0.3161 - val_accuracy: 0.8746\n",
      "Epoch 23/100\n",
      "30/30 [==============================] - 1s 19ms/step - loss: 0.3554 - accuracy: 0.8652 - val_loss: 0.3435 - val_accuracy: 0.8640\n",
      "Epoch 24/100\n",
      "30/30 [==============================] - 1s 19ms/step - loss: 0.3472 - accuracy: 0.8662 - val_loss: 0.2995 - val_accuracy: 0.8871\n",
      "Epoch 25/100\n",
      "30/30 [==============================] - 1s 19ms/step - loss: 0.3404 - accuracy: 0.8636 - val_loss: 0.3189 - val_accuracy: 0.8777\n",
      "Epoch 26/100\n",
      "30/30 [==============================] - 1s 19ms/step - loss: 0.3340 - accuracy: 0.8716 - val_loss: 0.3045 - val_accuracy: 0.8858\n",
      "Epoch 27/100\n",
      "30/30 [==============================] - 1s 19ms/step - loss: 0.3471 - accuracy: 0.8638 - val_loss: 0.3008 - val_accuracy: 0.8890\n",
      "Epoch 28/100\n",
      "30/30 [==============================] - 1s 19ms/step - loss: 0.3388 - accuracy: 0.8684 - val_loss: 0.3046 - val_accuracy: 0.8883\n",
      "Epoch 29/100\n",
      "30/30 [==============================] - 1s 19ms/step - loss: 0.3296 - accuracy: 0.8743 - val_loss: 0.3543 - val_accuracy: 0.8621\n",
      "Epoch 30/100\n",
      "30/30 [==============================] - 1s 19ms/step - loss: 0.3496 - accuracy: 0.8630 - val_loss: 0.3307 - val_accuracy: 0.8696\n",
      "Epoch 31/100\n",
      "30/30 [==============================] - 1s 19ms/step - loss: 0.3503 - accuracy: 0.8590 - val_loss: 0.3042 - val_accuracy: 0.8840\n",
      "Epoch 32/100\n",
      "30/30 [==============================] - 1s 19ms/step - loss: 0.3429 - accuracy: 0.8689 - val_loss: 0.3112 - val_accuracy: 0.8858\n",
      "Epoch 33/100\n",
      "30/30 [==============================] - 1s 19ms/step - loss: 0.3439 - accuracy: 0.8708 - val_loss: 0.3194 - val_accuracy: 0.8790\n",
      "Epoch 34/100\n",
      "30/30 [==============================] - 1s 19ms/step - loss: 0.3310 - accuracy: 0.8719 - val_loss: 0.3037 - val_accuracy: 0.8877\n",
      "Epoch 35/100\n",
      "30/30 [==============================] - 1s 19ms/step - loss: 0.3360 - accuracy: 0.8753 - val_loss: 0.3010 - val_accuracy: 0.8871\n",
      "Epoch 36/100\n",
      "30/30 [==============================] - 1s 19ms/step - loss: 0.3438 - accuracy: 0.8668 - val_loss: 0.3364 - val_accuracy: 0.8634\n",
      "Epoch 37/100\n",
      "30/30 [==============================] - 1s 19ms/step - loss: 0.3504 - accuracy: 0.8617 - val_loss: 0.3024 - val_accuracy: 0.8890\n",
      "Epoch 38/100\n",
      "30/30 [==============================] - 1s 18ms/step - loss: 0.3395 - accuracy: 0.8681 - val_loss: 0.3123 - val_accuracy: 0.8802\n",
      "Epoch 39/100\n",
      "30/30 [==============================] - 1s 19ms/step - loss: 0.3327 - accuracy: 0.8724 - val_loss: 0.3028 - val_accuracy: 0.8883\n",
      "Epoch 40/100\n",
      "30/30 [==============================] - 1s 19ms/step - loss: 0.3357 - accuracy: 0.8737 - val_loss: 0.2969 - val_accuracy: 0.8908\n",
      "Epoch 41/100\n",
      "30/30 [==============================] - 1s 19ms/step - loss: 0.3367 - accuracy: 0.8697 - val_loss: 0.3047 - val_accuracy: 0.8896\n",
      "Epoch 42/100\n",
      "30/30 [==============================] - 1s 18ms/step - loss: 0.3410 - accuracy: 0.8692 - val_loss: 0.3035 - val_accuracy: 0.8877\n",
      "Epoch 43/100\n",
      "30/30 [==============================] - 1s 19ms/step - loss: 0.3414 - accuracy: 0.8673 - val_loss: 0.2981 - val_accuracy: 0.8890\n",
      "Epoch 44/100\n",
      "30/30 [==============================] - 1s 19ms/step - loss: 0.3333 - accuracy: 0.8745 - val_loss: 0.2990 - val_accuracy: 0.8921\n",
      "Epoch 45/100\n",
      "30/30 [==============================] - 1s 18ms/step - loss: 0.3311 - accuracy: 0.8697 - val_loss: 0.3081 - val_accuracy: 0.8846\n",
      "Epoch 46/100\n",
      "30/30 [==============================] - 1s 19ms/step - loss: 0.3381 - accuracy: 0.8686 - val_loss: 0.3083 - val_accuracy: 0.8858\n",
      "Epoch 47/100\n",
      "30/30 [==============================] - 1s 19ms/step - loss: 0.3425 - accuracy: 0.8668 - val_loss: 0.3028 - val_accuracy: 0.8871\n",
      "Epoch 48/100\n",
      "30/30 [==============================] - 1s 19ms/step - loss: 0.3303 - accuracy: 0.8743 - val_loss: 0.2947 - val_accuracy: 0.8902\n",
      "Epoch 49/100\n",
      "30/30 [==============================] - 1s 18ms/step - loss: 0.3325 - accuracy: 0.8759 - val_loss: 0.3081 - val_accuracy: 0.8883\n",
      "Epoch 50/100\n",
      "30/30 [==============================] - 1s 19ms/step - loss: 0.3359 - accuracy: 0.8737 - val_loss: 0.3021 - val_accuracy: 0.8883\n",
      "Epoch 51/100\n",
      "30/30 [==============================] - 1s 19ms/step - loss: 0.3327 - accuracy: 0.8751 - val_loss: 0.2972 - val_accuracy: 0.8890\n",
      "Epoch 52/100\n",
      "30/30 [==============================] - 1s 19ms/step - loss: 0.3429 - accuracy: 0.8689 - val_loss: 0.3036 - val_accuracy: 0.8896\n",
      "Epoch 53/100\n",
      "30/30 [==============================] - 1s 19ms/step - loss: 0.3300 - accuracy: 0.8705 - val_loss: 0.3257 - val_accuracy: 0.8690\n",
      "Epoch 54/100\n",
      "30/30 [==============================] - 1s 19ms/step - loss: 0.3327 - accuracy: 0.8705 - val_loss: 0.3022 - val_accuracy: 0.8871\n",
      "Epoch 55/100\n",
      "30/30 [==============================] - 1s 19ms/step - loss: 0.3372 - accuracy: 0.8673 - val_loss: 0.3051 - val_accuracy: 0.8871\n",
      "Epoch 56/100\n",
      "30/30 [==============================] - 1s 19ms/step - loss: 0.3337 - accuracy: 0.8692 - val_loss: 0.3001 - val_accuracy: 0.8921\n",
      "Epoch 57/100\n",
      "30/30 [==============================] - 1s 19ms/step - loss: 0.3289 - accuracy: 0.8737 - val_loss: 0.3039 - val_accuracy: 0.8840\n",
      "Epoch 58/100\n"
     ]
    },
    {
     "name": "stdout",
     "output_type": "stream",
     "text": [
      "30/30 [==============================] - 1s 19ms/step - loss: 0.3357 - accuracy: 0.8729 - val_loss: 0.3161 - val_accuracy: 0.8746\n",
      "Epoch 59/100\n",
      "30/30 [==============================] - 1s 19ms/step - loss: 0.3315 - accuracy: 0.8740 - val_loss: 0.3006 - val_accuracy: 0.8871\n",
      "Epoch 60/100\n",
      "30/30 [==============================] - 1s 18ms/step - loss: 0.3323 - accuracy: 0.8657 - val_loss: 0.3028 - val_accuracy: 0.8896\n",
      "Epoch 61/100\n",
      "30/30 [==============================] - 1s 19ms/step - loss: 0.3314 - accuracy: 0.8735 - val_loss: 0.3294 - val_accuracy: 0.8684\n",
      "Epoch 62/100\n",
      "30/30 [==============================] - 1s 18ms/step - loss: 0.3323 - accuracy: 0.8681 - val_loss: 0.2943 - val_accuracy: 0.8921\n",
      "Epoch 63/100\n",
      "30/30 [==============================] - 1s 19ms/step - loss: 0.3343 - accuracy: 0.8719 - val_loss: 0.2991 - val_accuracy: 0.8908\n",
      "Epoch 64/100\n",
      "30/30 [==============================] - 1s 19ms/step - loss: 0.3302 - accuracy: 0.8737 - val_loss: 0.3340 - val_accuracy: 0.8665\n",
      "Epoch 65/100\n",
      "30/30 [==============================] - 1s 19ms/step - loss: 0.3326 - accuracy: 0.8705 - val_loss: 0.3006 - val_accuracy: 0.8858\n",
      "Epoch 66/100\n",
      "30/30 [==============================] - 1s 19ms/step - loss: 0.3283 - accuracy: 0.8727 - val_loss: 0.2957 - val_accuracy: 0.8883\n",
      "Epoch 67/100\n",
      "30/30 [==============================] - 1s 19ms/step - loss: 0.3341 - accuracy: 0.8721 - val_loss: 0.3026 - val_accuracy: 0.8846\n",
      "Epoch 68/100\n",
      "30/30 [==============================] - 1s 19ms/step - loss: 0.3276 - accuracy: 0.8727 - val_loss: 0.2986 - val_accuracy: 0.8883\n",
      "Epoch 69/100\n",
      "30/30 [==============================] - 1s 19ms/step - loss: 0.3294 - accuracy: 0.8740 - val_loss: 0.2991 - val_accuracy: 0.8852\n",
      "Epoch 70/100\n",
      "30/30 [==============================] - 1s 19ms/step - loss: 0.3217 - accuracy: 0.8796 - val_loss: 0.3111 - val_accuracy: 0.8833\n",
      "Epoch 71/100\n",
      "30/30 [==============================] - 1s 18ms/step - loss: 0.3217 - accuracy: 0.8772 - val_loss: 0.2999 - val_accuracy: 0.8902\n",
      "Epoch 72/100\n",
      "30/30 [==============================] - 1s 19ms/step - loss: 0.3344 - accuracy: 0.8700 - val_loss: 0.3953 - val_accuracy: 0.8303\n",
      "Epoch 73/100\n",
      "30/30 [==============================] - 1s 19ms/step - loss: 0.3458 - accuracy: 0.8654 - val_loss: 0.3036 - val_accuracy: 0.8852\n",
      "Epoch 74/100\n",
      "30/30 [==============================] - 1s 20ms/step - loss: 0.3356 - accuracy: 0.8703 - val_loss: 0.2988 - val_accuracy: 0.8915\n",
      "Epoch 75/100\n",
      "30/30 [==============================] - 1s 18ms/step - loss: 0.3318 - accuracy: 0.8721 - val_loss: 0.3378 - val_accuracy: 0.8559\n",
      "Epoch 76/100\n",
      "30/30 [==============================] - 1s 19ms/step - loss: 0.3393 - accuracy: 0.8681 - val_loss: 0.3024 - val_accuracy: 0.8871\n",
      "Epoch 77/100\n",
      "30/30 [==============================] - 1s 18ms/step - loss: 0.3297 - accuracy: 0.8737 - val_loss: 0.3047 - val_accuracy: 0.8846\n",
      "Epoch 78/100\n",
      "30/30 [==============================] - 1s 20ms/step - loss: 0.3243 - accuracy: 0.8777 - val_loss: 0.3035 - val_accuracy: 0.8865\n",
      "Epoch 79/100\n",
      "30/30 [==============================] - 1s 18ms/step - loss: 0.3301 - accuracy: 0.8785 - val_loss: 0.3130 - val_accuracy: 0.8702\n",
      "Epoch 80/100\n",
      "30/30 [==============================] - 1s 19ms/step - loss: 0.3229 - accuracy: 0.8748 - val_loss: 0.3086 - val_accuracy: 0.8827\n",
      "Epoch 81/100\n",
      "30/30 [==============================] - 1s 19ms/step - loss: 0.3341 - accuracy: 0.8713 - val_loss: 0.3025 - val_accuracy: 0.8896\n",
      "Epoch 82/100\n",
      "30/30 [==============================] - 1s 19ms/step - loss: 0.3322 - accuracy: 0.8735 - val_loss: 0.2985 - val_accuracy: 0.8890\n",
      "Epoch 83/100\n",
      "30/30 [==============================] - 1s 19ms/step - loss: 0.3310 - accuracy: 0.8740 - val_loss: 0.3017 - val_accuracy: 0.8877\n",
      "Epoch 84/100\n",
      "30/30 [==============================] - 1s 19ms/step - loss: 0.3317 - accuracy: 0.8732 - val_loss: 0.3043 - val_accuracy: 0.8840\n",
      "Epoch 85/100\n",
      "30/30 [==============================] - 1s 19ms/step - loss: 0.3270 - accuracy: 0.8713 - val_loss: 0.3076 - val_accuracy: 0.8865\n",
      "Epoch 86/100\n",
      "30/30 [==============================] - 1s 19ms/step - loss: 0.3260 - accuracy: 0.8732 - val_loss: 0.3015 - val_accuracy: 0.8871\n",
      "Epoch 87/100\n",
      "30/30 [==============================] - 1s 19ms/step - loss: 0.3273 - accuracy: 0.8708 - val_loss: 0.3118 - val_accuracy: 0.8777\n",
      "Epoch 88/100\n",
      "30/30 [==============================] - 1s 19ms/step - loss: 0.3244 - accuracy: 0.8788 - val_loss: 0.3038 - val_accuracy: 0.8852\n",
      "Epoch 89/100\n",
      "30/30 [==============================] - 1s 19ms/step - loss: 0.3263 - accuracy: 0.8735 - val_loss: 0.3046 - val_accuracy: 0.8846\n",
      "Epoch 90/100\n",
      "30/30 [==============================] - 1s 19ms/step - loss: 0.3228 - accuracy: 0.8748 - val_loss: 0.3024 - val_accuracy: 0.8840\n",
      "Epoch 91/100\n",
      "30/30 [==============================] - 1s 19ms/step - loss: 0.3187 - accuracy: 0.8767 - val_loss: 0.2975 - val_accuracy: 0.8902\n",
      "Epoch 92/100\n",
      "30/30 [==============================] - 1s 19ms/step - loss: 0.3232 - accuracy: 0.8804 - val_loss: 0.2983 - val_accuracy: 0.8852\n",
      "Epoch 93/100\n",
      "30/30 [==============================] - 1s 20ms/step - loss: 0.3274 - accuracy: 0.8785 - val_loss: 0.3012 - val_accuracy: 0.8846\n",
      "Epoch 94/100\n",
      "30/30 [==============================] - 1s 19ms/step - loss: 0.3242 - accuracy: 0.8769 - val_loss: 0.2977 - val_accuracy: 0.8896\n",
      "Epoch 95/100\n",
      "30/30 [==============================] - 1s 20ms/step - loss: 0.3191 - accuracy: 0.8753 - val_loss: 0.3036 - val_accuracy: 0.8877\n",
      "Epoch 96/100\n",
      "30/30 [==============================] - 1s 19ms/step - loss: 0.3143 - accuracy: 0.8791 - val_loss: 0.3147 - val_accuracy: 0.8771\n",
      "Epoch 97/100\n",
      "30/30 [==============================] - 1s 19ms/step - loss: 0.3284 - accuracy: 0.8796 - val_loss: 0.3063 - val_accuracy: 0.8840\n",
      "Epoch 98/100\n",
      "30/30 [==============================] - 1s 20ms/step - loss: 0.3266 - accuracy: 0.8769 - val_loss: 0.3087 - val_accuracy: 0.8833\n",
      "Epoch 99/100\n",
      "30/30 [==============================] - 1s 20ms/step - loss: 0.3226 - accuracy: 0.8748 - val_loss: 0.3156 - val_accuracy: 0.8784\n",
      "Epoch 100/100\n",
      "30/30 [==============================] - 1s 20ms/step - loss: 0.3196 - accuracy: 0.8767 - val_loss: 0.3097 - val_accuracy: 0.8815\n"
     ]
    }
   ],
   "source": [
    "history_model = model.fit(X_train1, y_train1, validation_data=(X_test1, y_test1), epochs=epochs, batch_size=batch_size)"
   ]
  },
  {
   "cell_type": "code",
   "execution_count": 94,
   "metadata": {},
   "outputs": [
    {
     "data": {
      "text/plain": [
       "{'verbose': 1, 'epochs': 100, 'steps': 30}"
      ]
     },
     "execution_count": 94,
     "metadata": {},
     "output_type": "execute_result"
    }
   ],
   "source": [
    "history_model.params"
   ]
  },
  {
   "cell_type": "code",
   "execution_count": 95,
   "metadata": {},
   "outputs": [
    {
     "name": "stdout",
     "output_type": "stream",
     "text": [
      "51/51 [==============================] - 0s 3ms/step - loss: 0.3097 - accuracy: 0.8815\n"
     ]
    },
    {
     "data": {
      "text/plain": [
       "[0.3097144365310669, 0.8814722299575806]"
      ]
     },
     "execution_count": 95,
     "metadata": {},
     "output_type": "execute_result"
    }
   ],
   "source": [
    "model.evaluate(X_test1, y_test1)"
   ]
  },
  {
   "cell_type": "markdown",
   "metadata": {},
   "source": [
    "# plot MLP learning process"
   ]
  },
  {
   "cell_type": "code",
   "execution_count": 96,
   "metadata": {},
   "outputs": [
    {
     "data": {
      "image/png": "[encoded data removed]",
      "text/plain": [
       "<Figure size 720x504 with 1 Axes>"
      ]
     },
     "metadata": {
      "needs_background": "light"
     },
     "output_type": "display_data"
    }
   ],
   "source": [
    "import matplotlib.pyplot as plt\n",
    "\n",
    "pd.DataFrame(history_model.history).plot(figsize=(10, 7))\n",
    "plt.grid(True)\n",
    "plt.gca().set_ylim(0, 1)\n",
    "plt.show()"
   ]
  },
  {
   "cell_type": "code",
   "execution_count": null,
   "metadata": {},
   "outputs": [],
   "source": []
  },
  {
   "cell_type": "code",
   "execution_count": null,
   "metadata": {},
   "outputs": [],
   "source": []
  },
  {
   "cell_type": "code",
   "execution_count": null,
   "metadata": {},
   "outputs": [],
   "source": []
  },
  {
   "cell_type": "markdown",
   "metadata": {},
   "source": [
    "##  loss: 0.3046 - accuracy: 0.8858 (lr=0.01, epochs=100)\n",
    "\n",
    "model = Sequential()\n",
    "model.add(LSTM(80, dropout=0.2, input_shape=(X_train1.shape[1], X_train1.shape[2]),return_sequences=True))\n",
    "model.add(LSTM(40, dropout=0.2, return_sequences=False))\n",
    "model.add(Dense(1, activation='sigmoid'))\n",
    "model.compile(loss='binary_crossentropy',\n",
    "              optimizer=tf.keras.optimizers.Adam(learning_rate=lr),\n",
    "              metrics=['accuracy'])"
   ]
  },
  {
   "cell_type": "markdown",
   "metadata": {},
   "source": [
    "## loss: 0.3098 - accuracy: 0.8840 (lr=0.001, epochs=100)\n",
    "\n",
    "model = Sequential()\n",
    "model.add(LSTM(80, dropout=0.2, input_shape=(X_train1.shape[1], X_train1.shape[2]),return_sequences=True))\n",
    "model.add(LSTM(40, dropout=0.2, return_sequences=False))\n",
    "model.add(Dense(1, activation='sigmoid'))\n",
    "model.compile(loss='binary_crossentropy',\n",
    "              optimizer=tf.keras.optimizers.Adam(learning_rate=lr),\n",
    "              metrics=['accuracy'])"
   ]
  },
  {
   "cell_type": "markdown",
   "metadata": {},
   "source": [
    "## loss: 0.4120 - accuracy: 0.8222 (lr=0.0001, epochs=100)\n",
    "\n",
    "model = Sequential()\n",
    "model.add(LSTM(80, dropout=0.2, input_shape=(X_train1.shape[1], X_train1.shape[2]),return_sequences=True))\n",
    "model.add(LSTM(40, dropout=0.2, return_sequences=False))\n",
    "model.add(Dense(1, activation='sigmoid'))\n",
    "model.compile(loss='binary_crossentropy',\n",
    "              optimizer=tf.keras.optimizers.Adam(learning_rate=lr),\n",
    "              metrics=['accuracy'])"
   ]
  }
 ],
 "metadata": {
  "interpreter": {
   "hash": "776263c496be5c6ef9b62855ccfe4216cc9e3bb1bb92391165ff82701524ab45"
  },
  "kernelspec": {
   "display_name": "student_prediction",
   "language": "python",
   "name": "student_prediction"
  },
  "language_info": {
   "codemirror_mode": {
    "name": "ipython",
    "version": 3
   },
   "file_extension": ".py",
   "mimetype": "text/x-python",
   "name": "python",
   "nbconvert_exporter": "python",
   "pygments_lexer": "ipython3",
   "version": "3.9.7"
  }
 },
 "nbformat": 4,
 "nbformat_minor": 2
}
