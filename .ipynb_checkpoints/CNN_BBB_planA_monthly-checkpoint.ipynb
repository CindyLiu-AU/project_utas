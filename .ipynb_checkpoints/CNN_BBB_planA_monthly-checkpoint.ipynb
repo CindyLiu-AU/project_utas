{
 "cells": [
  {
   "cell_type": "code",
   "execution_count": 61,
   "metadata": {
    "id": "WOVIhLSu4urx"
   },
   "outputs": [],
   "source": [
    "import numpy as np\n",
    "import pandas as pd\n",
    "import matplotlib.pyplot as plt\n",
    "\n",
    "from keras.models import Sequential\n",
    "from keras.layers import Dense, Conv1D, Flatten, MaxPool1D, Dropout, Activation\n",
    "\n",
    "from sklearn import preprocessing\n",
    "from sklearn.model_selection import train_test_split\n",
    "\n",
    "import tensorflow as tf\n",
    "from tensorflow import keras\n",
    "\n",
    "np.random.seed(42)"
   ]
  },
  {
   "cell_type": "markdown",
   "metadata": {},
   "source": [
    "# load data"
   ]
  },
  {
   "cell_type": "code",
   "execution_count": 62,
   "metadata": {
    "id": "VvXOu32XOMIz"
   },
   "outputs": [],
   "source": [
    "df_ori = pd.read_csv('BBB_planA_monthly.csv')"
   ]
  },
  {
   "cell_type": "code",
   "execution_count": 63,
   "metadata": {},
   "outputs": [
    {
     "data": {
      "text/html": [
       "<div>\n",
       "<style scoped>\n",
       "    .dataframe tbody tr th:only-of-type {\n",
       "        vertical-align: middle;\n",
       "    }\n",
       "\n",
       "    .dataframe tbody tr th {\n",
       "        vertical-align: top;\n",
       "    }\n",
       "\n",
       "    .dataframe thead th {\n",
       "        text-align: right;\n",
       "    }\n",
       "</style>\n",
       "<table border=\"1\" class=\"dataframe\">\n",
       "  <thead>\n",
       "    <tr style=\"text-align: right;\">\n",
       "      <th></th>\n",
       "      <th>final_result</th>\n",
       "      <th>T0</th>\n",
       "      <th>T1</th>\n",
       "      <th>T2</th>\n",
       "      <th>T3</th>\n",
       "      <th>T4</th>\n",
       "      <th>T5</th>\n",
       "      <th>T6</th>\n",
       "      <th>T7</th>\n",
       "      <th>T8</th>\n",
       "      <th>T9</th>\n",
       "      <th>id1</th>\n",
       "    </tr>\n",
       "  </thead>\n",
       "  <tbody>\n",
       "    <tr>\n",
       "      <th>0</th>\n",
       "      <td>1</td>\n",
       "      <td>13.0</td>\n",
       "      <td>38.0</td>\n",
       "      <td>88.0</td>\n",
       "      <td>14.0</td>\n",
       "      <td>126.0</td>\n",
       "      <td>67.0</td>\n",
       "      <td>124.0</td>\n",
       "      <td>152.0</td>\n",
       "      <td>83.0</td>\n",
       "      <td>34.0</td>\n",
       "      <td>0</td>\n",
       "    </tr>\n",
       "    <tr>\n",
       "      <th>1</th>\n",
       "      <td>1</td>\n",
       "      <td>7.0</td>\n",
       "      <td>42.0</td>\n",
       "      <td>22.0</td>\n",
       "      <td>7.0</td>\n",
       "      <td>101.0</td>\n",
       "      <td>46.0</td>\n",
       "      <td>14.0</td>\n",
       "      <td>62.0</td>\n",
       "      <td>0.0</td>\n",
       "      <td>0.0</td>\n",
       "      <td>1</td>\n",
       "    </tr>\n",
       "    <tr>\n",
       "      <th>2</th>\n",
       "      <td>0</td>\n",
       "      <td>71.0</td>\n",
       "      <td>333.0</td>\n",
       "      <td>510.0</td>\n",
       "      <td>38.0</td>\n",
       "      <td>139.0</td>\n",
       "      <td>247.0</td>\n",
       "      <td>119.0</td>\n",
       "      <td>157.0</td>\n",
       "      <td>62.0</td>\n",
       "      <td>12.0</td>\n",
       "      <td>2</td>\n",
       "    </tr>\n",
       "    <tr>\n",
       "      <th>3</th>\n",
       "      <td>1</td>\n",
       "      <td>117.0</td>\n",
       "      <td>72.0</td>\n",
       "      <td>211.0</td>\n",
       "      <td>131.0</td>\n",
       "      <td>244.0</td>\n",
       "      <td>483.0</td>\n",
       "      <td>193.0</td>\n",
       "      <td>409.0</td>\n",
       "      <td>138.0</td>\n",
       "      <td>0.0</td>\n",
       "      <td>3</td>\n",
       "    </tr>\n",
       "    <tr>\n",
       "      <th>4</th>\n",
       "      <td>0</td>\n",
       "      <td>2.0</td>\n",
       "      <td>9.0</td>\n",
       "      <td>4.0</td>\n",
       "      <td>0.0</td>\n",
       "      <td>0.0</td>\n",
       "      <td>1.0</td>\n",
       "      <td>0.0</td>\n",
       "      <td>0.0</td>\n",
       "      <td>0.0</td>\n",
       "      <td>0.0</td>\n",
       "      <td>4</td>\n",
       "    </tr>\n",
       "    <tr>\n",
       "      <th>...</th>\n",
       "      <td>...</td>\n",
       "      <td>...</td>\n",
       "      <td>...</td>\n",
       "      <td>...</td>\n",
       "      <td>...</td>\n",
       "      <td>...</td>\n",
       "      <td>...</td>\n",
       "      <td>...</td>\n",
       "      <td>...</td>\n",
       "      <td>...</td>\n",
       "      <td>...</td>\n",
       "      <td>...</td>\n",
       "    </tr>\n",
       "    <tr>\n",
       "      <th>5336</th>\n",
       "      <td>1</td>\n",
       "      <td>64.0</td>\n",
       "      <td>95.0</td>\n",
       "      <td>62.0</td>\n",
       "      <td>74.0</td>\n",
       "      <td>73.0</td>\n",
       "      <td>48.0</td>\n",
       "      <td>56.0</td>\n",
       "      <td>70.0</td>\n",
       "      <td>89.0</td>\n",
       "      <td>0.0</td>\n",
       "      <td>5336</td>\n",
       "    </tr>\n",
       "    <tr>\n",
       "      <th>5337</th>\n",
       "      <td>0</td>\n",
       "      <td>32.0</td>\n",
       "      <td>74.0</td>\n",
       "      <td>159.0</td>\n",
       "      <td>81.0</td>\n",
       "      <td>38.0</td>\n",
       "      <td>15.0</td>\n",
       "      <td>75.0</td>\n",
       "      <td>23.0</td>\n",
       "      <td>56.0</td>\n",
       "      <td>0.0</td>\n",
       "      <td>5337</td>\n",
       "    </tr>\n",
       "    <tr>\n",
       "      <th>5338</th>\n",
       "      <td>1</td>\n",
       "      <td>562.0</td>\n",
       "      <td>675.0</td>\n",
       "      <td>770.0</td>\n",
       "      <td>756.0</td>\n",
       "      <td>856.0</td>\n",
       "      <td>374.0</td>\n",
       "      <td>425.0</td>\n",
       "      <td>218.0</td>\n",
       "      <td>206.0</td>\n",
       "      <td>0.0</td>\n",
       "      <td>5338</td>\n",
       "    </tr>\n",
       "    <tr>\n",
       "      <th>5339</th>\n",
       "      <td>0</td>\n",
       "      <td>0.0</td>\n",
       "      <td>27.0</td>\n",
       "      <td>29.0</td>\n",
       "      <td>75.0</td>\n",
       "      <td>1.0</td>\n",
       "      <td>9.0</td>\n",
       "      <td>64.0</td>\n",
       "      <td>17.0</td>\n",
       "      <td>43.0</td>\n",
       "      <td>0.0</td>\n",
       "      <td>5339</td>\n",
       "    </tr>\n",
       "    <tr>\n",
       "      <th>5340</th>\n",
       "      <td>1</td>\n",
       "      <td>0.0</td>\n",
       "      <td>101.0</td>\n",
       "      <td>92.0</td>\n",
       "      <td>77.0</td>\n",
       "      <td>263.0</td>\n",
       "      <td>287.0</td>\n",
       "      <td>444.0</td>\n",
       "      <td>327.0</td>\n",
       "      <td>309.0</td>\n",
       "      <td>93.0</td>\n",
       "      <td>5340</td>\n",
       "    </tr>\n",
       "  </tbody>\n",
       "</table>\n",
       "<p>5341 rows × 12 columns</p>\n",
       "</div>"
      ],
      "text/plain": [
       "      final_result     T0     T1     T2     T3     T4     T5     T6     T7  \\\n",
       "0                1   13.0   38.0   88.0   14.0  126.0   67.0  124.0  152.0   \n",
       "1                1    7.0   42.0   22.0    7.0  101.0   46.0   14.0   62.0   \n",
       "2                0   71.0  333.0  510.0   38.0  139.0  247.0  119.0  157.0   \n",
       "3                1  117.0   72.0  211.0  131.0  244.0  483.0  193.0  409.0   \n",
       "4                0    2.0    9.0    4.0    0.0    0.0    1.0    0.0    0.0   \n",
       "...            ...    ...    ...    ...    ...    ...    ...    ...    ...   \n",
       "5336             1   64.0   95.0   62.0   74.0   73.0   48.0   56.0   70.0   \n",
       "5337             0   32.0   74.0  159.0   81.0   38.0   15.0   75.0   23.0   \n",
       "5338             1  562.0  675.0  770.0  756.0  856.0  374.0  425.0  218.0   \n",
       "5339             0    0.0   27.0   29.0   75.0    1.0    9.0   64.0   17.0   \n",
       "5340             1    0.0  101.0   92.0   77.0  263.0  287.0  444.0  327.0   \n",
       "\n",
       "         T8    T9   id1  \n",
       "0      83.0  34.0     0  \n",
       "1       0.0   0.0     1  \n",
       "2      62.0  12.0     2  \n",
       "3     138.0   0.0     3  \n",
       "4       0.0   0.0     4  \n",
       "...     ...   ...   ...  \n",
       "5336   89.0   0.0  5336  \n",
       "5337   56.0   0.0  5337  \n",
       "5338  206.0   0.0  5338  \n",
       "5339   43.0   0.0  5339  \n",
       "5340  309.0  93.0  5340  \n",
       "\n",
       "[5341 rows x 12 columns]"
      ]
     },
     "execution_count": 63,
     "metadata": {},
     "output_type": "execute_result"
    }
   ],
   "source": [
    "df = df_ori.copy()\n",
    "pd.set_option('display.max_columns', None)\n",
    "df"
   ]
  },
  {
   "cell_type": "markdown",
   "metadata": {},
   "source": [
    "# prepare X and y"
   ]
  },
  {
   "cell_type": "code",
   "execution_count": 64,
   "metadata": {
    "colab": {
     "base_uri": "https://localhost:8080/",
     "height": 557
    },
    "id": "xS2B1k_Pich7",
    "outputId": "af18988d-e764-4505-9dbe-af7cf825edae"
   },
   "outputs": [
    {
     "data": {
      "text/html": [
       "<div>\n",
       "<style scoped>\n",
       "    .dataframe tbody tr th:only-of-type {\n",
       "        vertical-align: middle;\n",
       "    }\n",
       "\n",
       "    .dataframe tbody tr th {\n",
       "        vertical-align: top;\n",
       "    }\n",
       "\n",
       "    .dataframe thead th {\n",
       "        text-align: right;\n",
       "    }\n",
       "</style>\n",
       "<table border=\"1\" class=\"dataframe\">\n",
       "  <thead>\n",
       "    <tr style=\"text-align: right;\">\n",
       "      <th></th>\n",
       "      <th>T0</th>\n",
       "      <th>T1</th>\n",
       "      <th>T2</th>\n",
       "      <th>T3</th>\n",
       "      <th>T4</th>\n",
       "      <th>T5</th>\n",
       "      <th>T6</th>\n",
       "      <th>T7</th>\n",
       "      <th>T8</th>\n",
       "      <th>T9</th>\n",
       "    </tr>\n",
       "  </thead>\n",
       "  <tbody>\n",
       "    <tr>\n",
       "      <th>0</th>\n",
       "      <td>13.0</td>\n",
       "      <td>38.0</td>\n",
       "      <td>88.0</td>\n",
       "      <td>14.0</td>\n",
       "      <td>126.0</td>\n",
       "      <td>67.0</td>\n",
       "      <td>124.0</td>\n",
       "      <td>152.0</td>\n",
       "      <td>83.0</td>\n",
       "      <td>34.0</td>\n",
       "    </tr>\n",
       "    <tr>\n",
       "      <th>1</th>\n",
       "      <td>7.0</td>\n",
       "      <td>42.0</td>\n",
       "      <td>22.0</td>\n",
       "      <td>7.0</td>\n",
       "      <td>101.0</td>\n",
       "      <td>46.0</td>\n",
       "      <td>14.0</td>\n",
       "      <td>62.0</td>\n",
       "      <td>0.0</td>\n",
       "      <td>0.0</td>\n",
       "    </tr>\n",
       "    <tr>\n",
       "      <th>2</th>\n",
       "      <td>71.0</td>\n",
       "      <td>333.0</td>\n",
       "      <td>510.0</td>\n",
       "      <td>38.0</td>\n",
       "      <td>139.0</td>\n",
       "      <td>247.0</td>\n",
       "      <td>119.0</td>\n",
       "      <td>157.0</td>\n",
       "      <td>62.0</td>\n",
       "      <td>12.0</td>\n",
       "    </tr>\n",
       "    <tr>\n",
       "      <th>3</th>\n",
       "      <td>117.0</td>\n",
       "      <td>72.0</td>\n",
       "      <td>211.0</td>\n",
       "      <td>131.0</td>\n",
       "      <td>244.0</td>\n",
       "      <td>483.0</td>\n",
       "      <td>193.0</td>\n",
       "      <td>409.0</td>\n",
       "      <td>138.0</td>\n",
       "      <td>0.0</td>\n",
       "    </tr>\n",
       "    <tr>\n",
       "      <th>4</th>\n",
       "      <td>2.0</td>\n",
       "      <td>9.0</td>\n",
       "      <td>4.0</td>\n",
       "      <td>0.0</td>\n",
       "      <td>0.0</td>\n",
       "      <td>1.0</td>\n",
       "      <td>0.0</td>\n",
       "      <td>0.0</td>\n",
       "      <td>0.0</td>\n",
       "      <td>0.0</td>\n",
       "    </tr>\n",
       "    <tr>\n",
       "      <th>...</th>\n",
       "      <td>...</td>\n",
       "      <td>...</td>\n",
       "      <td>...</td>\n",
       "      <td>...</td>\n",
       "      <td>...</td>\n",
       "      <td>...</td>\n",
       "      <td>...</td>\n",
       "      <td>...</td>\n",
       "      <td>...</td>\n",
       "      <td>...</td>\n",
       "    </tr>\n",
       "    <tr>\n",
       "      <th>5336</th>\n",
       "      <td>64.0</td>\n",
       "      <td>95.0</td>\n",
       "      <td>62.0</td>\n",
       "      <td>74.0</td>\n",
       "      <td>73.0</td>\n",
       "      <td>48.0</td>\n",
       "      <td>56.0</td>\n",
       "      <td>70.0</td>\n",
       "      <td>89.0</td>\n",
       "      <td>0.0</td>\n",
       "    </tr>\n",
       "    <tr>\n",
       "      <th>5337</th>\n",
       "      <td>32.0</td>\n",
       "      <td>74.0</td>\n",
       "      <td>159.0</td>\n",
       "      <td>81.0</td>\n",
       "      <td>38.0</td>\n",
       "      <td>15.0</td>\n",
       "      <td>75.0</td>\n",
       "      <td>23.0</td>\n",
       "      <td>56.0</td>\n",
       "      <td>0.0</td>\n",
       "    </tr>\n",
       "    <tr>\n",
       "      <th>5338</th>\n",
       "      <td>562.0</td>\n",
       "      <td>675.0</td>\n",
       "      <td>770.0</td>\n",
       "      <td>756.0</td>\n",
       "      <td>856.0</td>\n",
       "      <td>374.0</td>\n",
       "      <td>425.0</td>\n",
       "      <td>218.0</td>\n",
       "      <td>206.0</td>\n",
       "      <td>0.0</td>\n",
       "    </tr>\n",
       "    <tr>\n",
       "      <th>5339</th>\n",
       "      <td>0.0</td>\n",
       "      <td>27.0</td>\n",
       "      <td>29.0</td>\n",
       "      <td>75.0</td>\n",
       "      <td>1.0</td>\n",
       "      <td>9.0</td>\n",
       "      <td>64.0</td>\n",
       "      <td>17.0</td>\n",
       "      <td>43.0</td>\n",
       "      <td>0.0</td>\n",
       "    </tr>\n",
       "    <tr>\n",
       "      <th>5340</th>\n",
       "      <td>0.0</td>\n",
       "      <td>101.0</td>\n",
       "      <td>92.0</td>\n",
       "      <td>77.0</td>\n",
       "      <td>263.0</td>\n",
       "      <td>287.0</td>\n",
       "      <td>444.0</td>\n",
       "      <td>327.0</td>\n",
       "      <td>309.0</td>\n",
       "      <td>93.0</td>\n",
       "    </tr>\n",
       "  </tbody>\n",
       "</table>\n",
       "<p>5341 rows × 10 columns</p>\n",
       "</div>"
      ],
      "text/plain": [
       "         T0     T1     T2     T3     T4     T5     T6     T7     T8    T9\n",
       "0      13.0   38.0   88.0   14.0  126.0   67.0  124.0  152.0   83.0  34.0\n",
       "1       7.0   42.0   22.0    7.0  101.0   46.0   14.0   62.0    0.0   0.0\n",
       "2      71.0  333.0  510.0   38.0  139.0  247.0  119.0  157.0   62.0  12.0\n",
       "3     117.0   72.0  211.0  131.0  244.0  483.0  193.0  409.0  138.0   0.0\n",
       "4       2.0    9.0    4.0    0.0    0.0    1.0    0.0    0.0    0.0   0.0\n",
       "...     ...    ...    ...    ...    ...    ...    ...    ...    ...   ...\n",
       "5336   64.0   95.0   62.0   74.0   73.0   48.0   56.0   70.0   89.0   0.0\n",
       "5337   32.0   74.0  159.0   81.0   38.0   15.0   75.0   23.0   56.0   0.0\n",
       "5338  562.0  675.0  770.0  756.0  856.0  374.0  425.0  218.0  206.0   0.0\n",
       "5339    0.0   27.0   29.0   75.0    1.0    9.0   64.0   17.0   43.0   0.0\n",
       "5340    0.0  101.0   92.0   77.0  263.0  287.0  444.0  327.0  309.0  93.0\n",
       "\n",
       "[5341 rows x 10 columns]"
      ]
     },
     "execution_count": 64,
     "metadata": {},
     "output_type": "execute_result"
    }
   ],
   "source": [
    "X = df.drop(['final_result','id1'], axis=1)\n",
    "X"
   ]
  },
  {
   "cell_type": "code",
   "execution_count": 65,
   "metadata": {
    "colab": {
     "base_uri": "https://localhost:8080/"
    },
    "id": "QUii8R-ni9fx",
    "outputId": "e7e0ebd7-fd92-4508-e22c-6e5677c2c567"
   },
   "outputs": [
    {
     "data": {
      "text/plain": [
       "0       1\n",
       "1       1\n",
       "2       0\n",
       "3       1\n",
       "4       0\n",
       "       ..\n",
       "5336    1\n",
       "5337    0\n",
       "5338    1\n",
       "5339    0\n",
       "5340    1\n",
       "Name: final_result, Length: 5341, dtype: int64"
      ]
     },
     "execution_count": 65,
     "metadata": {},
     "output_type": "execute_result"
    }
   ],
   "source": [
    "y = df['final_result']\n",
    "y"
   ]
  },
  {
   "cell_type": "code",
   "execution_count": 66,
   "metadata": {
    "id": "cc1lzGR3nWCp"
   },
   "outputs": [],
   "source": [
    "# convert to numpy array\n",
    "X = X.values\n",
    "y = y.values"
   ]
  },
  {
   "cell_type": "code",
   "execution_count": 67,
   "metadata": {
    "colab": {
     "base_uri": "https://localhost:8080/"
    },
    "id": "4Pn6SWVzmxSK",
    "outputId": "999516d8-25c3-48db-a1a0-92a2395b511c"
   },
   "outputs": [
    {
     "data": {
      "text/plain": [
       "numpy.ndarray"
      ]
     },
     "execution_count": 67,
     "metadata": {},
     "output_type": "execute_result"
    }
   ],
   "source": [
    "type(X)"
   ]
  },
  {
   "cell_type": "code",
   "execution_count": 68,
   "metadata": {
    "colab": {
     "base_uri": "https://localhost:8080/"
    },
    "id": "OAKyzL0bnEPi",
    "outputId": "a0de62f2-5840-4f9e-a0a8-025dfee3d192"
   },
   "outputs": [
    {
     "data": {
      "text/plain": [
       "numpy.ndarray"
      ]
     },
     "execution_count": 68,
     "metadata": {},
     "output_type": "execute_result"
    }
   ],
   "source": [
    "type(y)"
   ]
  },
  {
   "cell_type": "markdown",
   "metadata": {},
   "source": [
    "# 7:3"
   ]
  },
  {
   "cell_type": "code",
   "execution_count": 69,
   "metadata": {
    "id": "zdp48uyacHvh"
   },
   "outputs": [],
   "source": [
    "X_train1, X_test1, y_train, y_test = train_test_split(\n",
    "         X, y, test_size=0.3, random_state=42, stratify=y)"
   ]
  },
  {
   "cell_type": "code",
   "execution_count": 70,
   "metadata": {
    "colab": {
     "base_uri": "https://localhost:8080/"
    },
    "id": "Dx2ueJUhkRUR",
    "outputId": "8fb21566-cab6-4708-b0bc-bbb984b0434c"
   },
   "outputs": [
    {
     "name": "stdout",
     "output_type": "stream",
     "text": [
      "(3738, 10)\n",
      "(1603, 10)\n",
      "(3738,)\n",
      "(1603,)\n"
     ]
    }
   ],
   "source": [
    "print(X_train1.shape)\n",
    "print(X_test1.shape)\n",
    "print(y_train.shape)\n",
    "print(y_test.shape)"
   ]
  },
  {
   "cell_type": "markdown",
   "metadata": {
    "colab": {
     "base_uri": "https://localhost:8080/"
    },
    "id": "9BOEizd2kUyR",
    "outputId": "6488e636-e0ef-4b06-924d-0cd8ddef706b"
   },
   "source": [
    "# MinMaxScaler"
   ]
  },
  {
   "cell_type": "code",
   "execution_count": 71,
   "metadata": {
    "colab": {
     "base_uri": "https://localhost:8080/"
    },
    "id": "lQOwN4SdkW8R",
    "outputId": "fa80d176-0cd6-4622-e278-5f830ef00a7c"
   },
   "outputs": [],
   "source": [
    "from sklearn import preprocessing\n",
    "min_max_scaler = preprocessing.MinMaxScaler()\n",
    "X_train = min_max_scaler.fit_transform(X_train1)\n",
    "X_test = min_max_scaler.fit_transform(X_test1)"
   ]
  },
  {
   "cell_type": "markdown",
   "metadata": {
    "colab": {
     "base_uri": "https://localhost:8080/"
    },
    "id": "t0NYqc9UkapB",
    "outputId": "7ecf50de-7cfd-458e-b542-534a20245ce7"
   },
   "source": [
    "# reshape"
   ]
  },
  {
   "cell_type": "code",
   "execution_count": 72,
   "metadata": {
    "id": "MxvH4HxLz-Vo"
   },
   "outputs": [],
   "source": [
    "# reshape into correct dimensions to input into cnn\n",
    "X_train = X_train.reshape(3738,10,1)\n",
    "X_test = X_test.reshape(1603,10,1)"
   ]
  },
  {
   "cell_type": "markdown",
   "metadata": {},
   "source": [
    "# build CNN model"
   ]
  },
  {
   "cell_type": "code",
   "execution_count": 73,
   "metadata": {},
   "outputs": [],
   "source": [
    "tf.random.set_seed(42)"
   ]
  },
  {
   "cell_type": "code",
   "execution_count": 74,
   "metadata": {},
   "outputs": [
    {
     "data": {
      "text/plain": [
       "(10, 1)"
      ]
     },
     "execution_count": 74,
     "metadata": {},
     "output_type": "execute_result"
    }
   ],
   "source": [
    "X_train.shape[1:]"
   ]
  },
  {
   "cell_type": "code",
   "execution_count": 76,
   "metadata": {},
   "outputs": [],
   "source": [
    "batch_size = 128"
   ]
  },
  {
   "cell_type": "code",
   "execution_count": 102,
   "metadata": {
    "colab": {
     "base_uri": "https://localhost:8080/"
    },
    "id": "-emkGCMPmNiq",
    "outputId": "7e18ad9a-daef-490a-f40f-9476492b0be2"
   },
   "outputs": [],
   "source": [
    "## \n",
    "lr = 0.001\n",
    "epochs = 200\n",
    "\n",
    "model = Sequential()\n",
    "model.add(Conv1D(filters=256,kernel_size=3, strides=2, input_shape=X_train.shape[1:]))\n",
    "model.add(Activation('relu'))\n",
    "model.add(MaxPool1D(pool_size=2))\n",
    "model.add(Dropout(0.2))\n",
    "model.add(Flatten())\n",
    "model.add(Dense(1, activation='sigmoid'))\n",
    "model.compile(loss='binary_crossentropy',\n",
    "              optimizer=keras.optimizers.Adam(learning_rate=lr),\n",
    "              metrics=['accuracy'])"
   ]
  },
  {
   "cell_type": "markdown",
   "metadata": {
    "colab": {
     "base_uri": "https://localhost:8080/"
    },
    "id": "-emkGCMPmNiq",
    "outputId": "7e18ad9a-daef-490a-f40f-9476492b0be2"
   },
   "source": [
    "## loss: 0.3142 - accuracy: 0.8846 (lr = 0.001, epochs = 200, filters=256)\n",
    "### Total params: 1,537\n",
    "model = Sequential()\n",
    "model.add(Conv1D(filters=256,kernel_size=3, strides=2, input_shape=X_train.shape[1:]))\n",
    "model.add(Activation('relu'))\n",
    "model.add(MaxPool1D(pool_size=2))\n",
    "model.add(Dropout(0.2))\n",
    "model.add(Flatten())\n",
    "model.add(Dense(1, activation='sigmoid'))\n",
    "model.compile(loss='binary_crossentropy',\n",
    "              optimizer=keras.optimizers.Adam(learning_rate=lr),\n",
    "              metrics=['accuracy'])"
   ]
  },
  {
   "cell_type": "markdown",
   "metadata": {
    "colab": {
     "base_uri": "https://localhost:8080/"
    },
    "id": "-emkGCMPmNiq",
    "outputId": "7e18ad9a-daef-490a-f40f-9476492b0be2"
   },
   "source": [
    "## loss: 0.3085 - accuracy: 0.8846 (lr = 0.001, epochs = 350, filters=512)\n",
    "### Total params: 3,073\n",
    "\n",
    "model = Sequential()\n",
    "model.add(Conv1D(filters=512,kernel_size=3, strides=2, input_shape=X_train.shape[1:]))\n",
    "model.add(Activation('relu'))\n",
    "model.add(MaxPool1D(pool_size=2))\n",
    "model.add(Dropout(0.2))\n",
    "model.add(Flatten())\n",
    "model.add(Dense(1, activation='sigmoid'))\n",
    "model.compile(loss='binary_crossentropy',\n",
    "              optimizer=keras.optimizers.Adam(learning_rate=lr),\n",
    "              metrics=['accuracy'])"
   ]
  },
  {
   "cell_type": "markdown",
   "metadata": {
    "colab": {
     "base_uri": "https://localhost:8080/"
    },
    "id": "-emkGCMPmNiq",
    "outputId": "7e18ad9a-daef-490a-f40f-9476492b0be2"
   },
   "source": [
    "## loss: 0.3091 - accuracy: 0.8852 (lr = 0.001, epochs = 350, filters=256) --> best\n",
    "### Total params: 1,537\n",
    "\n",
    "model = Sequential()\n",
    "model.add(Conv1D(filters=256,kernel_size=3, strides=2, input_shape=X_train.shape[1:]))\n",
    "model.add(Activation('relu'))\n",
    "model.add(MaxPool1D(pool_size=2))\n",
    "model.add(Dropout(0.2))\n",
    "model.add(Flatten())\n",
    "model.add(Dense(1, activation='sigmoid'))\n",
    "model.compile(loss='binary_crossentropy',\n",
    "              optimizer=keras.optimizers.Adam(learning_rate=lr),\n",
    "              metrics=['accuracy'])"
   ]
  },
  {
   "cell_type": "markdown",
   "metadata": {
    "colab": {
     "base_uri": "https://localhost:8080/"
    },
    "id": "-emkGCMPmNiq",
    "outputId": "7e18ad9a-daef-490a-f40f-9476492b0be2"
   },
   "source": [
    "## loss: 0.3086 - accuracy: 0.8846 (lr = 0.001, epochs = 350, filters=128)\n",
    "\n",
    "model = Sequential()\n",
    "model.add(Conv1D(filters=128,kernel_size=3, strides=2, input_shape=X_train.shape[1:]))\n",
    "model.add(Activation('relu'))\n",
    "model.add(MaxPool1D(pool_size=2))\n",
    "model.add(Dropout(0.2))\n",
    "model.add(Flatten())\n",
    "model.add(Dense(1, activation='sigmoid'))\n",
    "model.compile(loss='binary_crossentropy',\n",
    "              optimizer=keras.optimizers.Adam(learning_rate=lr),\n",
    "              metrics=['accuracy'])"
   ]
  },
  {
   "cell_type": "markdown",
   "metadata": {
    "colab": {
     "base_uri": "https://localhost:8080/"
    },
    "id": "-emkGCMPmNiq",
    "outputId": "7e18ad9a-daef-490a-f40f-9476492b0be2"
   },
   "source": [
    "## loss: 0.3357 - accuracy: 0.8833 (lr = 0.001, epochs = 400)\n",
    "\n",
    "model = Sequential()\n",
    "model.add(Conv1D(filters=64,kernel_size=3, strides=2, input_shape=X_train.shape[1:]))\n",
    "model.add(Activation('relu'))\n",
    "model.add(MaxPool1D(pool_size=2))\n",
    "model.add(Dropout(0.2))\n",
    "model.add(Flatten())\n",
    "model.add(Dense(1, activation='sigmoid'))\n",
    "model.compile(loss='binary_crossentropy',\n",
    "              optimizer=keras.optimizers.Adam(learning_rate=lr),\n",
    "              metrics=['accuracy'])"
   ]
  },
  {
   "cell_type": "markdown",
   "metadata": {
    "colab": {
     "base_uri": "https://localhost:8080/"
    },
    "id": "-emkGCMPmNiq",
    "outputId": "7e18ad9a-daef-490a-f40f-9476492b0be2"
   },
   "source": [
    "## loss: 0.3097 - accuracy: 0.8846 (lr = 0.001, epochs = 350)\n",
    "\n",
    "model = Sequential()\n",
    "model.add(Conv1D(filters=64,kernel_size=3, strides=2, input_shape=X_train.shape[1:]))\n",
    "model.add(Activation('relu'))\n",
    "model.add(MaxPool1D(pool_size=2))\n",
    "model.add(Dropout(0.2))\n",
    "model.add(Flatten())\n",
    "model.add(Dense(1, activation='sigmoid'))\n",
    "model.compile(loss='binary_crossentropy',\n",
    "              optimizer=keras.optimizers.Adam(learning_rate=lr),\n",
    "              metrics=['accuracy'])"
   ]
  },
  {
   "cell_type": "markdown",
   "metadata": {
    "colab": {
     "base_uri": "https://localhost:8080/"
    },
    "id": "-emkGCMPmNiq",
    "outputId": "7e18ad9a-daef-490a-f40f-9476492b0be2"
   },
   "source": [
    "## loss: 0.3170 - accuracy: 0.8846 (lr = 0.001, epochs = 300)\n",
    "\n",
    "model = Sequential()\n",
    "model.add(Conv1D(filters=64,kernel_size=3, strides=2, input_shape=X_train.shape[1:]))\n",
    "model.add(Activation('relu'))\n",
    "model.add(MaxPool1D(pool_size=2))\n",
    "model.add(Dropout(0.2))\n",
    "model.add(Flatten())\n",
    "model.add(Dense(1, activation='sigmoid'))\n",
    "model.compile(loss='binary_crossentropy',\n",
    "              optimizer=keras.optimizers.Adam(learning_rate=lr),\n",
    "              metrics=['accuracy'])"
   ]
  },
  {
   "cell_type": "markdown",
   "metadata": {
    "colab": {
     "base_uri": "https://localhost:8080/"
    },
    "id": "-emkGCMPmNiq",
    "outputId": "7e18ad9a-daef-490a-f40f-9476492b0be2"
   },
   "source": [
    "## loss: 0.3317 - accuracy: 0.8840 (lr = 0.001, epochs = 200)\n",
    "\n",
    "model = Sequential()\n",
    "model.add(Conv1D(filters=64,kernel_size=3, strides=2, input_shape=X_train.shape[1:]))\n",
    "model.add(Activation('relu'))\n",
    "model.add(MaxPool1D(pool_size=2))\n",
    "model.add(Dropout(0.2))\n",
    "model.add(Flatten())\n",
    "model.add(Dense(1, activation='sigmoid'))\n",
    "model.compile(loss='binary_crossentropy',\n",
    "              optimizer=keras.optimizers.Adam(learning_rate=lr),\n",
    "              metrics=['accuracy'])"
   ]
  },
  {
   "cell_type": "markdown",
   "metadata": {
    "colab": {
     "base_uri": "https://localhost:8080/"
    },
    "id": "-emkGCMPmNiq",
    "outputId": "7e18ad9a-daef-490a-f40f-9476492b0be2"
   },
   "source": [
    "## loss: 0.3563 - accuracy: 0.8802 (lr = 0.001, epochs = 100)\n",
    "\n",
    "model = Sequential()\n",
    "model.add(Conv1D(filters=64,kernel_size=3, strides=2, input_shape=X_train.shape[1:]))\n",
    "model.add(Activation('relu'))\n",
    "model.add(MaxPool1D(pool_size=2))\n",
    "model.add(Dropout(0.2))\n",
    "model.add(Flatten())\n",
    "model.add(Dense(1, activation='sigmoid'))\n",
    "model.compile(loss='binary_crossentropy',\n",
    "              optimizer=keras.optimizers.Adam(learning_rate=lr),\n",
    "              metrics=['accuracy'])"
   ]
  },
  {
   "cell_type": "markdown",
   "metadata": {
    "colab": {
     "base_uri": "https://localhost:8080/"
    },
    "id": "-emkGCMPmNiq",
    "outputId": "7e18ad9a-daef-490a-f40f-9476492b0be2"
   },
   "source": [
    "## loss: 0.5273 - accuracy: 0.7024 (lr = 0.0001, epochs = 100)\n",
    "\n",
    "model = Sequential()\n",
    "model.add(Conv1D(filters=64,kernel_size=3, strides=2, input_shape=X_train.shape[1:]))\n",
    "model.add(Activation('relu'))\n",
    "model.add(MaxPool1D(pool_size=2))\n",
    "model.add(Dropout(0.2))\n",
    "model.add(Flatten())\n",
    "model.add(Dense(1, activation='sigmoid'))\n",
    "model.compile(loss='binary_crossentropy',\n",
    "              optimizer=keras.optimizers.Adam(learning_rate=lr),\n",
    "              metrics=['accuracy'])"
   ]
  },
  {
   "cell_type": "code",
   "execution_count": 103,
   "metadata": {},
   "outputs": [
    {
     "name": "stdout",
     "output_type": "stream",
     "text": [
      "Model: \"sequential_12\"\n",
      "_________________________________________________________________\n",
      " Layer (type)                Output Shape              Param #   \n",
      "=================================================================\n",
      " conv1d_12 (Conv1D)          (None, 4, 256)            1024      \n",
      "                                                                 \n",
      " activation_12 (Activation)  (None, 4, 256)            0         \n",
      "                                                                 \n",
      " max_pooling1d_12 (MaxPoolin  (None, 2, 256)           0         \n",
      " g1D)                                                            \n",
      "                                                                 \n",
      " dropout_12 (Dropout)        (None, 2, 256)            0         \n",
      "                                                                 \n",
      " flatten_12 (Flatten)        (None, 512)               0         \n",
      "                                                                 \n",
      " dense_12 (Dense)            (None, 1)                 513       \n",
      "                                                                 \n",
      "=================================================================\n",
      "Total params: 1,537\n",
      "Trainable params: 1,537\n",
      "Non-trainable params: 0\n",
      "_________________________________________________________________\n",
      "None\n"
     ]
    }
   ],
   "source": [
    "print(model.summary())"
   ]
  },
  {
   "cell_type": "markdown",
   "metadata": {},
   "source": [
    "# fit CNN model"
   ]
  },
  {
   "cell_type": "code",
   "execution_count": 104,
   "metadata": {
    "colab": {
     "base_uri": "https://localhost:8080/"
    },
    "id": "8kT265q-kcyJ",
    "outputId": "b807b506-ffbc-48ec-bea2-dac436d522a0"
   },
   "outputs": [
    {
     "name": "stdout",
     "output_type": "stream",
     "text": [
      "Epoch 1/200\n",
      "30/30 [==============================] - 0s 4ms/step - loss: 0.6565 - accuracy: 0.6849 - val_loss: 0.6098 - val_accuracy: 0.7024\n",
      "Epoch 2/200\n",
      "30/30 [==============================] - 0s 2ms/step - loss: 0.5950 - accuracy: 0.7025 - val_loss: 0.5784 - val_accuracy: 0.7024\n",
      "Epoch 3/200\n",
      "30/30 [==============================] - 0s 2ms/step - loss: 0.5778 - accuracy: 0.7025 - val_loss: 0.5645 - val_accuracy: 0.7024\n",
      "Epoch 4/200\n",
      "30/30 [==============================] - 0s 2ms/step - loss: 0.5660 - accuracy: 0.7025 - val_loss: 0.5492 - val_accuracy: 0.7024\n",
      "Epoch 5/200\n",
      "30/30 [==============================] - 0s 2ms/step - loss: 0.5532 - accuracy: 0.7025 - val_loss: 0.5340 - val_accuracy: 0.7024\n",
      "Epoch 6/200\n",
      "30/30 [==============================] - 0s 2ms/step - loss: 0.5388 - accuracy: 0.7025 - val_loss: 0.5194 - val_accuracy: 0.7024\n",
      "Epoch 7/200\n",
      "30/30 [==============================] - 0s 2ms/step - loss: 0.5272 - accuracy: 0.7025 - val_loss: 0.5078 - val_accuracy: 0.7024\n",
      "Epoch 8/200\n",
      "30/30 [==============================] - 0s 2ms/step - loss: 0.5172 - accuracy: 0.7025 - val_loss: 0.4961 - val_accuracy: 0.7024\n",
      "Epoch 9/200\n",
      "30/30 [==============================] - 0s 2ms/step - loss: 0.5092 - accuracy: 0.7140 - val_loss: 0.4887 - val_accuracy: 0.7024\n",
      "Epoch 10/200\n",
      "30/30 [==============================] - 0s 2ms/step - loss: 0.5025 - accuracy: 0.7282 - val_loss: 0.4803 - val_accuracy: 0.7642\n",
      "Epoch 11/200\n",
      "30/30 [==============================] - 0s 2ms/step - loss: 0.4963 - accuracy: 0.7780 - val_loss: 0.4743 - val_accuracy: 0.7810\n",
      "Epoch 12/200\n",
      "30/30 [==============================] - 0s 2ms/step - loss: 0.4924 - accuracy: 0.8004 - val_loss: 0.4684 - val_accuracy: 0.8185\n",
      "Epoch 13/200\n",
      "30/30 [==============================] - 0s 2ms/step - loss: 0.4873 - accuracy: 0.8208 - val_loss: 0.4643 - val_accuracy: 0.7916\n",
      "Epoch 14/200\n",
      "30/30 [==============================] - 0s 2ms/step - loss: 0.4828 - accuracy: 0.8258 - val_loss: 0.4579 - val_accuracy: 0.8297\n",
      "Epoch 15/200\n",
      "30/30 [==============================] - 0s 2ms/step - loss: 0.4785 - accuracy: 0.8357 - val_loss: 0.4528 - val_accuracy: 0.8391\n",
      "Epoch 16/200\n",
      "30/30 [==============================] - 0s 2ms/step - loss: 0.4744 - accuracy: 0.8392 - val_loss: 0.4488 - val_accuracy: 0.8515\n",
      "Epoch 17/200\n",
      "30/30 [==============================] - 0s 2ms/step - loss: 0.4707 - accuracy: 0.8491 - val_loss: 0.4443 - val_accuracy: 0.8522\n",
      "Epoch 18/200\n",
      "30/30 [==============================] - 0s 2ms/step - loss: 0.4681 - accuracy: 0.8507 - val_loss: 0.4406 - val_accuracy: 0.8603\n",
      "Epoch 19/200\n",
      "30/30 [==============================] - 0s 2ms/step - loss: 0.4632 - accuracy: 0.8521 - val_loss: 0.4377 - val_accuracy: 0.8578\n",
      "Epoch 20/200\n",
      "30/30 [==============================] - 0s 2ms/step - loss: 0.4597 - accuracy: 0.8558 - val_loss: 0.4367 - val_accuracy: 0.8603\n",
      "Epoch 21/200\n",
      "30/30 [==============================] - 0s 2ms/step - loss: 0.4588 - accuracy: 0.8475 - val_loss: 0.4323 - val_accuracy: 0.8628\n",
      "Epoch 22/200\n",
      "30/30 [==============================] - 0s 2ms/step - loss: 0.4551 - accuracy: 0.8534 - val_loss: 0.4334 - val_accuracy: 0.8584\n",
      "Epoch 23/200\n",
      "30/30 [==============================] - 0s 2ms/step - loss: 0.4522 - accuracy: 0.8555 - val_loss: 0.4273 - val_accuracy: 0.8653\n",
      "Epoch 24/200\n",
      "30/30 [==============================] - 0s 2ms/step - loss: 0.4508 - accuracy: 0.8550 - val_loss: 0.4259 - val_accuracy: 0.8621\n",
      "Epoch 25/200\n",
      "30/30 [==============================] - 0s 2ms/step - loss: 0.4474 - accuracy: 0.8518 - val_loss: 0.4237 - val_accuracy: 0.8634\n",
      "Epoch 26/200\n",
      "30/30 [==============================] - 0s 2ms/step - loss: 0.4453 - accuracy: 0.8507 - val_loss: 0.4204 - val_accuracy: 0.8677\n",
      "Epoch 27/200\n",
      "30/30 [==============================] - 0s 2ms/step - loss: 0.4444 - accuracy: 0.8507 - val_loss: 0.4172 - val_accuracy: 0.8677\n",
      "Epoch 28/200\n",
      "30/30 [==============================] - 0s 2ms/step - loss: 0.4409 - accuracy: 0.8480 - val_loss: 0.4174 - val_accuracy: 0.8677\n",
      "Epoch 29/200\n",
      "30/30 [==============================] - 0s 2ms/step - loss: 0.4383 - accuracy: 0.8467 - val_loss: 0.4143 - val_accuracy: 0.8634\n",
      "Epoch 30/200\n",
      "30/30 [==============================] - 0s 2ms/step - loss: 0.4367 - accuracy: 0.8526 - val_loss: 0.4143 - val_accuracy: 0.8640\n",
      "Epoch 31/200\n",
      "30/30 [==============================] - 0s 2ms/step - loss: 0.4333 - accuracy: 0.8494 - val_loss: 0.4088 - val_accuracy: 0.8671\n",
      "Epoch 32/200\n",
      "30/30 [==============================] - 0s 2ms/step - loss: 0.4333 - accuracy: 0.8531 - val_loss: 0.4085 - val_accuracy: 0.8646\n",
      "Epoch 33/200\n",
      "30/30 [==============================] - 0s 2ms/step - loss: 0.4298 - accuracy: 0.8529 - val_loss: 0.4039 - val_accuracy: 0.8696\n",
      "Epoch 34/200\n",
      "30/30 [==============================] - 0s 2ms/step - loss: 0.4274 - accuracy: 0.8494 - val_loss: 0.4047 - val_accuracy: 0.8640\n",
      "Epoch 35/200\n",
      "30/30 [==============================] - 0s 2ms/step - loss: 0.4259 - accuracy: 0.8537 - val_loss: 0.4055 - val_accuracy: 0.8646\n",
      "Epoch 36/200\n",
      "30/30 [==============================] - 0s 2ms/step - loss: 0.4244 - accuracy: 0.8513 - val_loss: 0.3986 - val_accuracy: 0.8671\n",
      "Epoch 37/200\n",
      "30/30 [==============================] - 0s 2ms/step - loss: 0.4213 - accuracy: 0.8464 - val_loss: 0.3965 - val_accuracy: 0.8671\n",
      "Epoch 38/200\n",
      "30/30 [==============================] - 0s 2ms/step - loss: 0.4184 - accuracy: 0.8494 - val_loss: 0.3946 - val_accuracy: 0.8684\n",
      "Epoch 39/200\n",
      "30/30 [==============================] - 0s 2ms/step - loss: 0.4178 - accuracy: 0.8488 - val_loss: 0.3912 - val_accuracy: 0.8721\n",
      "Epoch 40/200\n",
      "30/30 [==============================] - 0s 2ms/step - loss: 0.4158 - accuracy: 0.8542 - val_loss: 0.3895 - val_accuracy: 0.8690\n",
      "Epoch 41/200\n",
      "30/30 [==============================] - 0s 2ms/step - loss: 0.4140 - accuracy: 0.8531 - val_loss: 0.3889 - val_accuracy: 0.8696\n",
      "Epoch 42/200\n",
      "30/30 [==============================] - 0s 2ms/step - loss: 0.4120 - accuracy: 0.8497 - val_loss: 0.3872 - val_accuracy: 0.8702\n",
      "Epoch 43/200\n",
      "30/30 [==============================] - 0s 2ms/step - loss: 0.4097 - accuracy: 0.8480 - val_loss: 0.3840 - val_accuracy: 0.8734\n",
      "Epoch 44/200\n",
      "30/30 [==============================] - 0s 2ms/step - loss: 0.4090 - accuracy: 0.8497 - val_loss: 0.3839 - val_accuracy: 0.8690\n",
      "Epoch 45/200\n",
      "30/30 [==============================] - 0s 2ms/step - loss: 0.4076 - accuracy: 0.8555 - val_loss: 0.3822 - val_accuracy: 0.8671\n",
      "Epoch 46/200\n",
      "30/30 [==============================] - 0s 2ms/step - loss: 0.4063 - accuracy: 0.8483 - val_loss: 0.3797 - val_accuracy: 0.8715\n",
      "Epoch 47/200\n",
      "30/30 [==============================] - 0s 2ms/step - loss: 0.4065 - accuracy: 0.8467 - val_loss: 0.3766 - val_accuracy: 0.8684\n",
      "Epoch 48/200\n",
      "30/30 [==============================] - 0s 2ms/step - loss: 0.4015 - accuracy: 0.8521 - val_loss: 0.3790 - val_accuracy: 0.8721\n",
      "Epoch 49/200\n",
      "30/30 [==============================] - 0s 2ms/step - loss: 0.4026 - accuracy: 0.8521 - val_loss: 0.3728 - val_accuracy: 0.8696\n",
      "Epoch 50/200\n",
      "30/30 [==============================] - 0s 2ms/step - loss: 0.4012 - accuracy: 0.8480 - val_loss: 0.3732 - val_accuracy: 0.8734\n",
      "Epoch 51/200\n",
      "30/30 [==============================] - 0s 2ms/step - loss: 0.3995 - accuracy: 0.8521 - val_loss: 0.3711 - val_accuracy: 0.8709\n",
      "Epoch 52/200\n",
      "30/30 [==============================] - 0s 2ms/step - loss: 0.3989 - accuracy: 0.8464 - val_loss: 0.3686 - val_accuracy: 0.8715\n",
      "Epoch 53/200\n",
      "30/30 [==============================] - 0s 2ms/step - loss: 0.3987 - accuracy: 0.8491 - val_loss: 0.3685 - val_accuracy: 0.8715\n",
      "Epoch 54/200\n",
      "30/30 [==============================] - 0s 2ms/step - loss: 0.3934 - accuracy: 0.8529 - val_loss: 0.3687 - val_accuracy: 0.8746\n",
      "Epoch 55/200\n",
      "30/30 [==============================] - 0s 2ms/step - loss: 0.3940 - accuracy: 0.8513 - val_loss: 0.3670 - val_accuracy: 0.8740\n",
      "Epoch 56/200\n",
      "30/30 [==============================] - 0s 2ms/step - loss: 0.3941 - accuracy: 0.8526 - val_loss: 0.3654 - val_accuracy: 0.8727\n",
      "Epoch 57/200\n",
      "30/30 [==============================] - 0s 2ms/step - loss: 0.3924 - accuracy: 0.8547 - val_loss: 0.3652 - val_accuracy: 0.8727\n",
      "Epoch 58/200\n",
      "30/30 [==============================] - 0s 2ms/step - loss: 0.3910 - accuracy: 0.8507 - val_loss: 0.3636 - val_accuracy: 0.8740\n"
     ]
    },
    {
     "name": "stdout",
     "output_type": "stream",
     "text": [
      "Epoch 59/200\n",
      "30/30 [==============================] - 0s 2ms/step - loss: 0.3909 - accuracy: 0.8494 - val_loss: 0.3606 - val_accuracy: 0.8734\n",
      "Epoch 60/200\n",
      "30/30 [==============================] - 0s 2ms/step - loss: 0.3912 - accuracy: 0.8488 - val_loss: 0.3598 - val_accuracy: 0.8771\n",
      "Epoch 61/200\n",
      "30/30 [==============================] - 0s 2ms/step - loss: 0.3883 - accuracy: 0.8467 - val_loss: 0.3585 - val_accuracy: 0.8765\n",
      "Epoch 62/200\n",
      "30/30 [==============================] - 0s 2ms/step - loss: 0.3882 - accuracy: 0.8542 - val_loss: 0.3581 - val_accuracy: 0.8740\n",
      "Epoch 63/200\n",
      "30/30 [==============================] - 0s 2ms/step - loss: 0.3866 - accuracy: 0.8531 - val_loss: 0.3598 - val_accuracy: 0.8740\n",
      "Epoch 64/200\n",
      "30/30 [==============================] - 0s 2ms/step - loss: 0.3865 - accuracy: 0.8566 - val_loss: 0.3558 - val_accuracy: 0.8771\n",
      "Epoch 65/200\n",
      "30/30 [==============================] - 0s 2ms/step - loss: 0.3860 - accuracy: 0.8558 - val_loss: 0.3547 - val_accuracy: 0.8752\n",
      "Epoch 66/200\n",
      "30/30 [==============================] - 0s 2ms/step - loss: 0.3854 - accuracy: 0.8558 - val_loss: 0.3586 - val_accuracy: 0.8734\n",
      "Epoch 67/200\n",
      "30/30 [==============================] - 0s 2ms/step - loss: 0.3821 - accuracy: 0.8529 - val_loss: 0.3539 - val_accuracy: 0.8740\n",
      "Epoch 68/200\n",
      "30/30 [==============================] - 0s 2ms/step - loss: 0.3834 - accuracy: 0.8598 - val_loss: 0.3519 - val_accuracy: 0.8740\n",
      "Epoch 69/200\n",
      "30/30 [==============================] - 0s 2ms/step - loss: 0.3828 - accuracy: 0.8561 - val_loss: 0.3519 - val_accuracy: 0.8752\n",
      "Epoch 70/200\n",
      "30/30 [==============================] - 0s 2ms/step - loss: 0.3792 - accuracy: 0.8566 - val_loss: 0.3521 - val_accuracy: 0.8746\n",
      "Epoch 71/200\n",
      "30/30 [==============================] - 0s 2ms/step - loss: 0.3803 - accuracy: 0.8534 - val_loss: 0.3492 - val_accuracy: 0.8777\n",
      "Epoch 72/200\n",
      "30/30 [==============================] - 0s 2ms/step - loss: 0.3788 - accuracy: 0.8545 - val_loss: 0.3485 - val_accuracy: 0.8746\n",
      "Epoch 73/200\n",
      "30/30 [==============================] - 0s 2ms/step - loss: 0.3811 - accuracy: 0.8571 - val_loss: 0.3496 - val_accuracy: 0.8752\n",
      "Epoch 74/200\n",
      "30/30 [==============================] - 0s 2ms/step - loss: 0.3785 - accuracy: 0.8569 - val_loss: 0.3464 - val_accuracy: 0.8752\n",
      "Epoch 75/200\n",
      "30/30 [==============================] - 0s 2ms/step - loss: 0.3756 - accuracy: 0.8601 - val_loss: 0.3461 - val_accuracy: 0.8746\n",
      "Epoch 76/200\n",
      "30/30 [==============================] - 0s 2ms/step - loss: 0.3762 - accuracy: 0.8563 - val_loss: 0.3461 - val_accuracy: 0.8802\n",
      "Epoch 77/200\n",
      "30/30 [==============================] - 0s 2ms/step - loss: 0.3779 - accuracy: 0.8638 - val_loss: 0.3454 - val_accuracy: 0.8752\n",
      "Epoch 78/200\n",
      "30/30 [==============================] - 0s 2ms/step - loss: 0.3752 - accuracy: 0.8553 - val_loss: 0.3444 - val_accuracy: 0.8784\n",
      "Epoch 79/200\n",
      "30/30 [==============================] - 0s 2ms/step - loss: 0.3769 - accuracy: 0.8630 - val_loss: 0.3433 - val_accuracy: 0.8790\n",
      "Epoch 80/200\n",
      "30/30 [==============================] - 0s 2ms/step - loss: 0.3748 - accuracy: 0.8598 - val_loss: 0.3443 - val_accuracy: 0.8815\n",
      "Epoch 81/200\n",
      "30/30 [==============================] - 0s 2ms/step - loss: 0.3756 - accuracy: 0.8628 - val_loss: 0.3473 - val_accuracy: 0.8734\n",
      "Epoch 82/200\n",
      "30/30 [==============================] - 0s 2ms/step - loss: 0.3720 - accuracy: 0.8636 - val_loss: 0.3435 - val_accuracy: 0.8802\n",
      "Epoch 83/200\n",
      "30/30 [==============================] - 0s 2ms/step - loss: 0.3694 - accuracy: 0.8654 - val_loss: 0.3479 - val_accuracy: 0.8759\n",
      "Epoch 84/200\n",
      "30/30 [==============================] - 0s 2ms/step - loss: 0.3727 - accuracy: 0.8606 - val_loss: 0.3401 - val_accuracy: 0.8796\n",
      "Epoch 85/200\n",
      "30/30 [==============================] - 0s 2ms/step - loss: 0.3704 - accuracy: 0.8574 - val_loss: 0.3401 - val_accuracy: 0.8802\n",
      "Epoch 86/200\n",
      "30/30 [==============================] - 0s 2ms/step - loss: 0.3666 - accuracy: 0.8609 - val_loss: 0.3405 - val_accuracy: 0.8808\n",
      "Epoch 87/200\n",
      "30/30 [==============================] - 0s 2ms/step - loss: 0.3698 - accuracy: 0.8604 - val_loss: 0.3408 - val_accuracy: 0.8815\n",
      "Epoch 88/200\n",
      "30/30 [==============================] - 0s 2ms/step - loss: 0.3715 - accuracy: 0.8633 - val_loss: 0.3382 - val_accuracy: 0.8802\n",
      "Epoch 89/200\n",
      "30/30 [==============================] - 0s 2ms/step - loss: 0.3674 - accuracy: 0.8681 - val_loss: 0.3385 - val_accuracy: 0.8777\n",
      "Epoch 90/200\n",
      "30/30 [==============================] - 0s 2ms/step - loss: 0.3699 - accuracy: 0.8646 - val_loss: 0.3382 - val_accuracy: 0.8821\n",
      "Epoch 91/200\n",
      "30/30 [==============================] - 0s 2ms/step - loss: 0.3686 - accuracy: 0.8596 - val_loss: 0.3373 - val_accuracy: 0.8815\n",
      "Epoch 92/200\n",
      "30/30 [==============================] - 0s 2ms/step - loss: 0.3663 - accuracy: 0.8633 - val_loss: 0.3377 - val_accuracy: 0.8777\n",
      "Epoch 93/200\n",
      "30/30 [==============================] - 0s 2ms/step - loss: 0.3672 - accuracy: 0.8644 - val_loss: 0.3366 - val_accuracy: 0.8771\n",
      "Epoch 94/200\n",
      "30/30 [==============================] - 0s 2ms/step - loss: 0.3691 - accuracy: 0.8598 - val_loss: 0.3378 - val_accuracy: 0.8790\n",
      "Epoch 95/200\n",
      "30/30 [==============================] - 0s 2ms/step - loss: 0.3694 - accuracy: 0.8612 - val_loss: 0.3357 - val_accuracy: 0.8765\n",
      "Epoch 96/200\n",
      "30/30 [==============================] - 0s 2ms/step - loss: 0.3659 - accuracy: 0.8617 - val_loss: 0.3352 - val_accuracy: 0.8827\n",
      "Epoch 97/200\n",
      "30/30 [==============================] - 0s 2ms/step - loss: 0.3669 - accuracy: 0.8662 - val_loss: 0.3340 - val_accuracy: 0.8808\n",
      "Epoch 98/200\n",
      "30/30 [==============================] - 0s 2ms/step - loss: 0.3665 - accuracy: 0.8681 - val_loss: 0.3356 - val_accuracy: 0.8765\n",
      "Epoch 99/200\n",
      "30/30 [==============================] - 0s 2ms/step - loss: 0.3641 - accuracy: 0.8662 - val_loss: 0.3327 - val_accuracy: 0.8808\n",
      "Epoch 100/200\n",
      "30/30 [==============================] - 0s 2ms/step - loss: 0.3629 - accuracy: 0.8630 - val_loss: 0.3337 - val_accuracy: 0.8840\n",
      "Epoch 101/200\n",
      "30/30 [==============================] - 0s 2ms/step - loss: 0.3670 - accuracy: 0.8681 - val_loss: 0.3332 - val_accuracy: 0.8802\n",
      "Epoch 102/200\n",
      "30/30 [==============================] - 0s 2ms/step - loss: 0.3609 - accuracy: 0.8686 - val_loss: 0.3321 - val_accuracy: 0.8808\n",
      "Epoch 103/200\n",
      "30/30 [==============================] - 0s 2ms/step - loss: 0.3637 - accuracy: 0.8638 - val_loss: 0.3319 - val_accuracy: 0.8808\n",
      "Epoch 104/200\n",
      "30/30 [==============================] - 0s 2ms/step - loss: 0.3637 - accuracy: 0.8654 - val_loss: 0.3314 - val_accuracy: 0.8821\n",
      "Epoch 105/200\n",
      "30/30 [==============================] - 0s 2ms/step - loss: 0.3599 - accuracy: 0.8708 - val_loss: 0.3322 - val_accuracy: 0.8815\n",
      "Epoch 106/200\n",
      "30/30 [==============================] - 0s 2ms/step - loss: 0.3639 - accuracy: 0.8694 - val_loss: 0.3326 - val_accuracy: 0.8808\n",
      "Epoch 107/200\n",
      "30/30 [==============================] - 0s 2ms/step - loss: 0.3603 - accuracy: 0.8662 - val_loss: 0.3345 - val_accuracy: 0.8796\n",
      "Epoch 108/200\n",
      "30/30 [==============================] - 0s 2ms/step - loss: 0.3639 - accuracy: 0.8649 - val_loss: 0.3299 - val_accuracy: 0.8815\n",
      "Epoch 109/200\n",
      "30/30 [==============================] - 0s 2ms/step - loss: 0.3615 - accuracy: 0.8681 - val_loss: 0.3293 - val_accuracy: 0.8827\n",
      "Epoch 110/200\n",
      "30/30 [==============================] - 0s 2ms/step - loss: 0.3578 - accuracy: 0.8705 - val_loss: 0.3286 - val_accuracy: 0.8808\n",
      "Epoch 111/200\n",
      "30/30 [==============================] - 0s 2ms/step - loss: 0.3583 - accuracy: 0.8668 - val_loss: 0.3306 - val_accuracy: 0.8858\n",
      "Epoch 112/200\n",
      "30/30 [==============================] - 0s 2ms/step - loss: 0.3600 - accuracy: 0.8684 - val_loss: 0.3302 - val_accuracy: 0.8821\n",
      "Epoch 113/200\n",
      "30/30 [==============================] - 0s 2ms/step - loss: 0.3563 - accuracy: 0.8716 - val_loss: 0.3281 - val_accuracy: 0.8833\n",
      "Epoch 114/200\n",
      "30/30 [==============================] - 0s 2ms/step - loss: 0.3601 - accuracy: 0.8694 - val_loss: 0.3272 - val_accuracy: 0.8802\n",
      "Epoch 115/200\n",
      "30/30 [==============================] - 0s 2ms/step - loss: 0.3519 - accuracy: 0.8692 - val_loss: 0.3297 - val_accuracy: 0.8808\n",
      "Epoch 116/200\n"
     ]
    },
    {
     "name": "stdout",
     "output_type": "stream",
     "text": [
      "30/30 [==============================] - 0s 2ms/step - loss: 0.3576 - accuracy: 0.8719 - val_loss: 0.3285 - val_accuracy: 0.8808\n",
      "Epoch 117/200\n",
      "30/30 [==============================] - 0s 2ms/step - loss: 0.3580 - accuracy: 0.8692 - val_loss: 0.3270 - val_accuracy: 0.8827\n",
      "Epoch 118/200\n",
      "30/30 [==============================] - 0s 2ms/step - loss: 0.3573 - accuracy: 0.8700 - val_loss: 0.3262 - val_accuracy: 0.8815\n",
      "Epoch 119/200\n",
      "30/30 [==============================] - 0s 2ms/step - loss: 0.3615 - accuracy: 0.8662 - val_loss: 0.3266 - val_accuracy: 0.8821\n",
      "Epoch 120/200\n",
      "30/30 [==============================] - 0s 2ms/step - loss: 0.3564 - accuracy: 0.8670 - val_loss: 0.3268 - val_accuracy: 0.8852\n",
      "Epoch 121/200\n",
      "30/30 [==============================] - 0s 2ms/step - loss: 0.3593 - accuracy: 0.8673 - val_loss: 0.3254 - val_accuracy: 0.8821\n",
      "Epoch 122/200\n",
      "30/30 [==============================] - 0s 2ms/step - loss: 0.3555 - accuracy: 0.8705 - val_loss: 0.3281 - val_accuracy: 0.8802\n",
      "Epoch 123/200\n",
      "30/30 [==============================] - 0s 2ms/step - loss: 0.3566 - accuracy: 0.8713 - val_loss: 0.3271 - val_accuracy: 0.8802\n",
      "Epoch 124/200\n",
      "30/30 [==============================] - 0s 2ms/step - loss: 0.3534 - accuracy: 0.8727 - val_loss: 0.3260 - val_accuracy: 0.8815\n",
      "Epoch 125/200\n",
      "30/30 [==============================] - 0s 2ms/step - loss: 0.3545 - accuracy: 0.8716 - val_loss: 0.3257 - val_accuracy: 0.8802\n",
      "Epoch 126/200\n",
      "30/30 [==============================] - 0s 2ms/step - loss: 0.3576 - accuracy: 0.8705 - val_loss: 0.3253 - val_accuracy: 0.8840\n",
      "Epoch 127/200\n",
      "30/30 [==============================] - 0s 2ms/step - loss: 0.3524 - accuracy: 0.8678 - val_loss: 0.3245 - val_accuracy: 0.8827\n",
      "Epoch 128/200\n",
      "30/30 [==============================] - 0s 2ms/step - loss: 0.3559 - accuracy: 0.8708 - val_loss: 0.3259 - val_accuracy: 0.8808\n",
      "Epoch 129/200\n",
      "30/30 [==============================] - 0s 2ms/step - loss: 0.3523 - accuracy: 0.8756 - val_loss: 0.3241 - val_accuracy: 0.8840\n",
      "Epoch 130/200\n",
      "30/30 [==============================] - 0s 2ms/step - loss: 0.3508 - accuracy: 0.8751 - val_loss: 0.3273 - val_accuracy: 0.8815\n",
      "Epoch 131/200\n",
      "30/30 [==============================] - 0s 2ms/step - loss: 0.3561 - accuracy: 0.8719 - val_loss: 0.3244 - val_accuracy: 0.8827\n",
      "Epoch 132/200\n",
      "30/30 [==============================] - 0s 2ms/step - loss: 0.3563 - accuracy: 0.8686 - val_loss: 0.3240 - val_accuracy: 0.8846\n",
      "Epoch 133/200\n",
      "30/30 [==============================] - 0s 2ms/step - loss: 0.3512 - accuracy: 0.8719 - val_loss: 0.3236 - val_accuracy: 0.8833\n",
      "Epoch 134/200\n",
      "30/30 [==============================] - 0s 2ms/step - loss: 0.3535 - accuracy: 0.8740 - val_loss: 0.3221 - val_accuracy: 0.8827\n",
      "Epoch 135/200\n",
      "30/30 [==============================] - 0s 2ms/step - loss: 0.3508 - accuracy: 0.8716 - val_loss: 0.3237 - val_accuracy: 0.8852\n",
      "Epoch 136/200\n",
      "30/30 [==============================] - 0s 2ms/step - loss: 0.3532 - accuracy: 0.8743 - val_loss: 0.3225 - val_accuracy: 0.8827\n",
      "Epoch 137/200\n",
      "30/30 [==============================] - 0s 2ms/step - loss: 0.3498 - accuracy: 0.8721 - val_loss: 0.3231 - val_accuracy: 0.8852\n",
      "Epoch 138/200\n",
      "30/30 [==============================] - 0s 2ms/step - loss: 0.3546 - accuracy: 0.8751 - val_loss: 0.3219 - val_accuracy: 0.8852\n",
      "Epoch 139/200\n",
      "30/30 [==============================] - 0s 2ms/step - loss: 0.3552 - accuracy: 0.8735 - val_loss: 0.3245 - val_accuracy: 0.8802\n",
      "Epoch 140/200\n",
      "30/30 [==============================] - 0s 2ms/step - loss: 0.3488 - accuracy: 0.8735 - val_loss: 0.3213 - val_accuracy: 0.8840\n",
      "Epoch 141/200\n",
      "30/30 [==============================] - 0s 2ms/step - loss: 0.3476 - accuracy: 0.8748 - val_loss: 0.3206 - val_accuracy: 0.8858\n",
      "Epoch 142/200\n",
      "30/30 [==============================] - 0s 2ms/step - loss: 0.3522 - accuracy: 0.8732 - val_loss: 0.3215 - val_accuracy: 0.8808\n",
      "Epoch 143/200\n",
      "30/30 [==============================] - 0s 2ms/step - loss: 0.3453 - accuracy: 0.8772 - val_loss: 0.3208 - val_accuracy: 0.8858\n",
      "Epoch 144/200\n",
      "30/30 [==============================] - 0s 2ms/step - loss: 0.3502 - accuracy: 0.8727 - val_loss: 0.3211 - val_accuracy: 0.8833\n",
      "Epoch 145/200\n",
      "30/30 [==============================] - 0s 2ms/step - loss: 0.3503 - accuracy: 0.8751 - val_loss: 0.3199 - val_accuracy: 0.8865\n",
      "Epoch 146/200\n",
      "30/30 [==============================] - 0s 2ms/step - loss: 0.3456 - accuracy: 0.8719 - val_loss: 0.3219 - val_accuracy: 0.8846\n",
      "Epoch 147/200\n",
      "30/30 [==============================] - 0s 2ms/step - loss: 0.3486 - accuracy: 0.8759 - val_loss: 0.3260 - val_accuracy: 0.8802\n",
      "Epoch 148/200\n",
      "30/30 [==============================] - 0s 2ms/step - loss: 0.3514 - accuracy: 0.8737 - val_loss: 0.3209 - val_accuracy: 0.8858\n",
      "Epoch 149/200\n",
      "30/30 [==============================] - 0s 2ms/step - loss: 0.3474 - accuracy: 0.8740 - val_loss: 0.3196 - val_accuracy: 0.8808\n",
      "Epoch 150/200\n",
      "30/30 [==============================] - 0s 2ms/step - loss: 0.3491 - accuracy: 0.8764 - val_loss: 0.3194 - val_accuracy: 0.8827\n",
      "Epoch 151/200\n",
      "30/30 [==============================] - 0s 2ms/step - loss: 0.3466 - accuracy: 0.8748 - val_loss: 0.3202 - val_accuracy: 0.8815\n",
      "Epoch 152/200\n",
      "30/30 [==============================] - 0s 2ms/step - loss: 0.3453 - accuracy: 0.8756 - val_loss: 0.3186 - val_accuracy: 0.8852\n",
      "Epoch 153/200\n",
      "30/30 [==============================] - 0s 2ms/step - loss: 0.3470 - accuracy: 0.8761 - val_loss: 0.3187 - val_accuracy: 0.8833\n",
      "Epoch 154/200\n",
      "30/30 [==============================] - 0s 2ms/step - loss: 0.3470 - accuracy: 0.8748 - val_loss: 0.3198 - val_accuracy: 0.8821\n",
      "Epoch 155/200\n",
      "30/30 [==============================] - 0s 2ms/step - loss: 0.3491 - accuracy: 0.8780 - val_loss: 0.3194 - val_accuracy: 0.8815\n",
      "Epoch 156/200\n",
      "30/30 [==============================] - 0s 2ms/step - loss: 0.3558 - accuracy: 0.8735 - val_loss: 0.3218 - val_accuracy: 0.8796\n",
      "Epoch 157/200\n",
      "30/30 [==============================] - 0s 2ms/step - loss: 0.3471 - accuracy: 0.8743 - val_loss: 0.3193 - val_accuracy: 0.8833\n",
      "Epoch 158/200\n",
      "30/30 [==============================] - 0s 2ms/step - loss: 0.3475 - accuracy: 0.8740 - val_loss: 0.3186 - val_accuracy: 0.8833\n",
      "Epoch 159/200\n",
      "30/30 [==============================] - 0s 2ms/step - loss: 0.3472 - accuracy: 0.8732 - val_loss: 0.3191 - val_accuracy: 0.8840\n",
      "Epoch 160/200\n",
      "30/30 [==============================] - 0s 2ms/step - loss: 0.3477 - accuracy: 0.8735 - val_loss: 0.3178 - val_accuracy: 0.8840\n",
      "Epoch 161/200\n",
      "30/30 [==============================] - 0s 2ms/step - loss: 0.3461 - accuracy: 0.8761 - val_loss: 0.3176 - val_accuracy: 0.8840\n",
      "Epoch 162/200\n",
      "30/30 [==============================] - 0s 2ms/step - loss: 0.3484 - accuracy: 0.8743 - val_loss: 0.3190 - val_accuracy: 0.8846\n",
      "Epoch 163/200\n",
      "30/30 [==============================] - 0s 2ms/step - loss: 0.3449 - accuracy: 0.8775 - val_loss: 0.3164 - val_accuracy: 0.8846\n",
      "Epoch 164/200\n",
      "30/30 [==============================] - 0s 2ms/step - loss: 0.3488 - accuracy: 0.8751 - val_loss: 0.3195 - val_accuracy: 0.8833\n",
      "Epoch 165/200\n",
      "30/30 [==============================] - 0s 2ms/step - loss: 0.3455 - accuracy: 0.8761 - val_loss: 0.3172 - val_accuracy: 0.8840\n",
      "Epoch 166/200\n",
      "30/30 [==============================] - 0s 2ms/step - loss: 0.3443 - accuracy: 0.8748 - val_loss: 0.3162 - val_accuracy: 0.8846\n",
      "Epoch 167/200\n",
      "30/30 [==============================] - 0s 2ms/step - loss: 0.3462 - accuracy: 0.8764 - val_loss: 0.3169 - val_accuracy: 0.8840\n",
      "Epoch 168/200\n",
      "30/30 [==============================] - 0s 2ms/step - loss: 0.3432 - accuracy: 0.8777 - val_loss: 0.3159 - val_accuracy: 0.8833\n",
      "Epoch 169/200\n",
      "30/30 [==============================] - 0s 2ms/step - loss: 0.3433 - accuracy: 0.8783 - val_loss: 0.3196 - val_accuracy: 0.8808\n",
      "Epoch 170/200\n",
      "30/30 [==============================] - 0s 2ms/step - loss: 0.3474 - accuracy: 0.8761 - val_loss: 0.3176 - val_accuracy: 0.8833\n",
      "Epoch 171/200\n",
      "30/30 [==============================] - 0s 2ms/step - loss: 0.3425 - accuracy: 0.8753 - val_loss: 0.3170 - val_accuracy: 0.8833\n",
      "Epoch 172/200\n",
      "30/30 [==============================] - 0s 2ms/step - loss: 0.3443 - accuracy: 0.8740 - val_loss: 0.3157 - val_accuracy: 0.8840\n",
      "Epoch 173/200\n"
     ]
    },
    {
     "name": "stdout",
     "output_type": "stream",
     "text": [
      "30/30 [==============================] - 0s 2ms/step - loss: 0.3443 - accuracy: 0.8780 - val_loss: 0.3159 - val_accuracy: 0.8833\n",
      "Epoch 174/200\n",
      "30/30 [==============================] - 0s 2ms/step - loss: 0.3443 - accuracy: 0.8764 - val_loss: 0.3160 - val_accuracy: 0.8833\n",
      "Epoch 175/200\n",
      "30/30 [==============================] - 0s 2ms/step - loss: 0.3395 - accuracy: 0.8793 - val_loss: 0.3166 - val_accuracy: 0.8840\n",
      "Epoch 176/200\n",
      "30/30 [==============================] - 0s 2ms/step - loss: 0.3440 - accuracy: 0.8780 - val_loss: 0.3152 - val_accuracy: 0.8852\n",
      "Epoch 177/200\n",
      "30/30 [==============================] - 0s 2ms/step - loss: 0.3435 - accuracy: 0.8759 - val_loss: 0.3145 - val_accuracy: 0.8846\n",
      "Epoch 178/200\n",
      "30/30 [==============================] - 0s 2ms/step - loss: 0.3426 - accuracy: 0.8775 - val_loss: 0.3149 - val_accuracy: 0.8846\n",
      "Epoch 179/200\n",
      "30/30 [==============================] - 0s 2ms/step - loss: 0.3478 - accuracy: 0.8769 - val_loss: 0.3151 - val_accuracy: 0.8840\n",
      "Epoch 180/200\n",
      "30/30 [==============================] - 0s 2ms/step - loss: 0.3419 - accuracy: 0.8783 - val_loss: 0.3163 - val_accuracy: 0.8840\n",
      "Epoch 181/200\n",
      "30/30 [==============================] - 0s 2ms/step - loss: 0.3419 - accuracy: 0.8777 - val_loss: 0.3140 - val_accuracy: 0.8846\n",
      "Epoch 182/200\n",
      "30/30 [==============================] - 0s 2ms/step - loss: 0.3413 - accuracy: 0.8777 - val_loss: 0.3141 - val_accuracy: 0.8846\n",
      "Epoch 183/200\n",
      "30/30 [==============================] - 0s 2ms/step - loss: 0.3415 - accuracy: 0.8772 - val_loss: 0.3156 - val_accuracy: 0.8852\n",
      "Epoch 184/200\n",
      "30/30 [==============================] - 0s 2ms/step - loss: 0.3403 - accuracy: 0.8783 - val_loss: 0.3144 - val_accuracy: 0.8833\n",
      "Epoch 185/200\n",
      "30/30 [==============================] - 0s 2ms/step - loss: 0.3411 - accuracy: 0.8751 - val_loss: 0.3131 - val_accuracy: 0.8846\n",
      "Epoch 186/200\n",
      "30/30 [==============================] - 0s 2ms/step - loss: 0.3388 - accuracy: 0.8772 - val_loss: 0.3151 - val_accuracy: 0.8852\n",
      "Epoch 187/200\n",
      "30/30 [==============================] - 0s 2ms/step - loss: 0.3412 - accuracy: 0.8767 - val_loss: 0.3128 - val_accuracy: 0.8833\n",
      "Epoch 188/200\n",
      "30/30 [==============================] - 0s 2ms/step - loss: 0.3424 - accuracy: 0.8769 - val_loss: 0.3138 - val_accuracy: 0.8852\n",
      "Epoch 189/200\n",
      "30/30 [==============================] - 0s 2ms/step - loss: 0.3364 - accuracy: 0.8810 - val_loss: 0.3148 - val_accuracy: 0.8846\n",
      "Epoch 190/200\n",
      "30/30 [==============================] - 0s 2ms/step - loss: 0.3396 - accuracy: 0.8769 - val_loss: 0.3150 - val_accuracy: 0.8871\n",
      "Epoch 191/200\n",
      "30/30 [==============================] - 0s 2ms/step - loss: 0.3389 - accuracy: 0.8823 - val_loss: 0.3137 - val_accuracy: 0.8833\n",
      "Epoch 192/200\n",
      "30/30 [==============================] - 0s 2ms/step - loss: 0.3418 - accuracy: 0.8788 - val_loss: 0.3135 - val_accuracy: 0.8840\n",
      "Epoch 193/200\n",
      "30/30 [==============================] - 0s 2ms/step - loss: 0.3398 - accuracy: 0.8783 - val_loss: 0.3143 - val_accuracy: 0.8852\n",
      "Epoch 194/200\n",
      "30/30 [==============================] - 0s 2ms/step - loss: 0.3384 - accuracy: 0.8788 - val_loss: 0.3129 - val_accuracy: 0.8846\n",
      "Epoch 195/200\n",
      "30/30 [==============================] - 0s 2ms/step - loss: 0.3408 - accuracy: 0.8807 - val_loss: 0.3142 - val_accuracy: 0.8840\n",
      "Epoch 196/200\n",
      "30/30 [==============================] - 0s 2ms/step - loss: 0.3414 - accuracy: 0.8761 - val_loss: 0.3145 - val_accuracy: 0.8846\n",
      "Epoch 197/200\n",
      "30/30 [==============================] - 0s 2ms/step - loss: 0.3376 - accuracy: 0.8777 - val_loss: 0.3136 - val_accuracy: 0.8858\n",
      "Epoch 198/200\n",
      "30/30 [==============================] - 0s 2ms/step - loss: 0.3382 - accuracy: 0.8799 - val_loss: 0.3129 - val_accuracy: 0.8833\n",
      "Epoch 199/200\n",
      "30/30 [==============================] - 0s 2ms/step - loss: 0.3378 - accuracy: 0.8767 - val_loss: 0.3134 - val_accuracy: 0.8852\n",
      "Epoch 200/200\n",
      "30/30 [==============================] - 0s 2ms/step - loss: 0.3390 - accuracy: 0.8788 - val_loss: 0.3142 - val_accuracy: 0.8846\n"
     ]
    }
   ],
   "source": [
    "history_model = model.fit(X_train, y_train, validation_data=(X_test, y_test), epochs=epochs, batch_size=batch_size)"
   ]
  },
  {
   "cell_type": "code",
   "execution_count": 105,
   "metadata": {
    "colab": {
     "base_uri": "https://localhost:8080/"
    },
    "id": "Kylki5gu3c3v",
    "outputId": "44466375-53a2-4964-fd8e-b34b86d27739"
   },
   "outputs": [
    {
     "name": "stdout",
     "output_type": "stream",
     "text": [
      "51/51 [==============================] - 0s 425us/step - loss: 0.3142 - accuracy: 0.8846\n"
     ]
    },
    {
     "data": {
      "text/plain": [
       "[0.3142082095146179, 0.8845914006233215]"
      ]
     },
     "execution_count": 105,
     "metadata": {},
     "output_type": "execute_result"
    }
   ],
   "source": [
    "model.evaluate(X_test, y_test)"
   ]
  },
  {
   "cell_type": "markdown",
   "metadata": {},
   "source": [
    "# plot CNN learning process"
   ]
  },
  {
   "cell_type": "code",
   "execution_count": 106,
   "metadata": {},
   "outputs": [
    {
     "data": {
      "image/png": "[encoded data removed]",
      "text/plain": [
       "<Figure size 720x504 with 1 Axes>"
      ]
     },
     "metadata": {
      "needs_background": "light"
     },
     "output_type": "display_data"
    }
   ],
   "source": [
    "import pandas as pd\n",
    "\n",
    "pd.DataFrame(history_model.history).plot(figsize=(10, 7))\n",
    "plt.grid(True)\n",
    "plt.gca().set_ylim(0, 1)\n",
    "plt.show()"
   ]
  },
  {
   "cell_type": "code",
   "execution_count": null,
   "metadata": {},
   "outputs": [],
   "source": []
  },
  {
   "cell_type": "markdown",
   "metadata": {
    "colab": {
     "base_uri": "https://localhost:8080/"
    },
    "id": "-emkGCMPmNiq",
    "outputId": "7e18ad9a-daef-490a-f40f-9476492b0be2"
   },
   "source": [
    "## loss: 0.3458 - accuracy: 0.8756 (lr = 0.0001)\n",
    "\n",
    "model = Sequential()\n",
    "model.add(Conv1D(filters=128,kernel_size=3, strides=2, input_shape=X_train.shape[1:]))\n",
    "model.add(Activation('relu'))\n",
    "model.add(MaxPool1D(pool_size=2))\n",
    "model.add(Dropout(0.4))\n",
    "model.add(Flatten())\n",
    "model.add(Dense(1, activation='sigmoid'))\n",
    "model.compile(loss='binary_crossentropy',\n",
    "              optimizer=keras.optimizers.Adam(learning_rate=lr),\n",
    "              metrics=['accuracy'])"
   ]
  },
  {
   "cell_type": "markdown",
   "metadata": {
    "colab": {
     "base_uri": "https://localhost:8080/"
    },
    "id": "-emkGCMPmNiq",
    "outputId": "7e18ad9a-daef-490a-f40f-9476492b0be2"
   },
   "source": [
    "## loss: 0.3142 - accuracy: 0.8756 (lr = 0.001)\n",
    "\n",
    "model = Sequential()\n",
    "model.add(Conv1D(filters=128,kernel_size=3, strides=2, input_shape=X_train.shape[1:]))\n",
    "model.add(Activation('relu'))\n",
    "model.add(MaxPool1D(pool_size=2))\n",
    "model.add(Dropout(0.4))\n",
    "model.add(Flatten())\n",
    "model.add(Dense(1, activation='sigmoid'))\n",
    "model.compile(loss='binary_crossentropy',\n",
    "              optimizer=keras.optimizers.Adam(learning_rate=lr),\n",
    "              metrics=['accuracy'])"
   ]
  },
  {
   "cell_type": "markdown",
   "metadata": {
    "colab": {
     "base_uri": "https://localhost:8080/"
    },
    "id": "-emkGCMPmNiq",
    "outputId": "7e18ad9a-daef-490a-f40f-9476492b0be2"
   },
   "source": [
    "## loss: 0.3252 - accuracy: 0.8775 (lr = 0.01) --> best\n",
    "\n",
    "model = Sequential()\n",
    "model.add(Conv1D(filters=128,kernel_size=3, strides=2, input_shape=X_train.shape[1:]))\n",
    "model.add(Activation('relu'))\n",
    "model.add(MaxPool1D(pool_size=2))\n",
    "model.add(Dropout(0.4))\n",
    "model.add(Flatten())\n",
    "model.add(Dense(1, activation='sigmoid'))\n",
    "model.compile(loss='binary_crossentropy',\n",
    "              optimizer=keras.optimizers.Adam(learning_rate=lr),\n",
    "              metrics=['accuracy'])"
   ]
  },
  {
   "cell_type": "markdown",
   "metadata": {
    "colab": {
     "base_uri": "https://localhost:8080/"
    },
    "id": "-emkGCMPmNiq",
    "outputId": "7e18ad9a-daef-490a-f40f-9476492b0be2"
   },
   "source": [
    "## loss: 0.4036 - accuracy: 0.8541 (lr = 0.1)\n",
    "\n",
    "model = Sequential()\n",
    "model.add(Conv1D(filters=128,kernel_size=3, strides=2, input_shape=X_train.shape[1:]))\n",
    "model.add(Activation('relu'))\n",
    "model.add(MaxPool1D(pool_size=2))\n",
    "model.add(Dropout(0.4))\n",
    "model.add(Flatten())\n",
    "model.add(Dense(1, activation='sigmoid'))\n",
    "model.compile(loss='binary_crossentropy',\n",
    "              optimizer=keras.optimizers.Adam(learning_rate=lr),\n",
    "              metrics=['accuracy'])"
   ]
  }
 ],
 "metadata": {
  "colab": {
   "name": "cnn_onlineCode_BBB_planB_monthly.ipynb",
   "provenance": []
  },
  "kernelspec": {
   "display_name": "student_prediction",
   "language": "python",
   "name": "student_prediction"
  },
  "language_info": {
   "codemirror_mode": {
    "name": "ipython",
    "version": 3
   },
   "file_extension": ".py",
   "mimetype": "text/x-python",
   "name": "python",
   "nbconvert_exporter": "python",
   "pygments_lexer": "ipython3",
   "version": "3.9.7"
  }
 },
 "nbformat": 4,
 "nbformat_minor": 1
}
